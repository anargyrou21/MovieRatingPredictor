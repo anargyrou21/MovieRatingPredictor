{
 "cells": [
  {
   "attachments": {},
   "cell_type": "markdown",
   "metadata": {},
   "source": [
    "## Import libraries"
   ]
  },
  {
   "cell_type": "code",
   "execution_count": 1,
   "metadata": {},
   "outputs": [],
   "source": [
    "import pandas as pd\n",
    "import numpy as np\n",
    "from ast import literal_eval\n",
    "import matplotlib.pyplot as plt\n",
    "\n",
    "from sklearn.svm import SVR\n",
    "from sklearn.ensemble import RandomForestRegressor\n",
    "\n",
    "from sklearn.preprocessing import StandardScaler\n",
    "from sklearn.preprocessing import LabelEncoder\n",
    "from sklearn.model_selection import train_test_split\n",
    "from sklearn.metrics import mean_absolute_error, mean_squared_error, r2_score, accuracy_score\n",
    "from sklearn.model_selection import GridSearchCV\n",
    "\n",
    "import re\n",
    "from nltk.corpus import stopwords\n",
    "from nltk.stem.snowball import SnowballStemmer\n",
    "\n",
    "import warnings\n",
    "warnings.filterwarnings(\"ignore\")"
   ]
  },
  {
   "attachments": {},
   "cell_type": "markdown",
   "metadata": {},
   "source": [
    "## Datasets preparation"
   ]
  },
  {
   "cell_type": "code",
   "execution_count": 2,
   "metadata": {},
   "outputs": [],
   "source": [
    "df= pd.read_csv(\"moviess.csv\")"
   ]
  },
  {
   "attachments": {},
   "cell_type": "markdown",
   "metadata": {},
   "source": [
    "#### Check information from dataset"
   ]
  },
  {
   "cell_type": "code",
   "execution_count": 3,
   "metadata": {},
   "outputs": [
    {
     "name": "stdout",
     "output_type": "stream",
     "text": [
      "<class 'pandas.core.frame.DataFrame'>\n",
      "RangeIndex: 24079 entries, 0 to 24078\n",
      "Data columns (total 15 columns):\n",
      " #   Column                Non-Null Count  Dtype  \n",
      "---  ------                --------------  -----  \n",
      " 0   imdb_id               23504 non-null  object \n",
      " 1   title                 24079 non-null  object \n",
      " 2   overview              23923 non-null  object \n",
      " 3   release_date          24079 non-null  object \n",
      " 4   runtime               24079 non-null  int64  \n",
      " 5   status                24079 non-null  object \n",
      " 6   tagline               15736 non-null  object \n",
      " 7   adult                 24079 non-null  bool   \n",
      " 8   vote_average          24079 non-null  float64\n",
      " 9   vote_count            24079 non-null  int64  \n",
      " 10  genres                24079 non-null  object \n",
      " 11  production_companies  24079 non-null  object \n",
      " 12  directors             24079 non-null  object \n",
      " 13  actors                24079 non-null  object \n",
      " 14  rating_rounded        24079 non-null  int64  \n",
      "dtypes: bool(1), float64(1), int64(3), object(10)\n",
      "memory usage: 2.6+ MB\n"
     ]
    }
   ],
   "source": [
    "df.info()"
   ]
  },
  {
   "attachments": {},
   "cell_type": "markdown",
   "metadata": {},
   "source": [
    "#### Keep released movies and then drop columns useless"
   ]
  },
  {
   "cell_type": "code",
   "execution_count": 4,
   "metadata": {},
   "outputs": [],
   "source": [
    "# Keep only the rows where the movie has been released\n",
    "df = df[(df['status'] == 'Released')]\n",
    "# Drop the 'status' column\n",
    "df = df.drop(columns=['release_date', 'imdb_id', 'status', 'rating_rounded'])"
   ]
  },
  {
   "cell_type": "code",
   "execution_count": 5,
   "metadata": {},
   "outputs": [
    {
     "data": {
      "text/html": [
       "<div>\n",
       "<style scoped>\n",
       "    .dataframe tbody tr th:only-of-type {\n",
       "        vertical-align: middle;\n",
       "    }\n",
       "\n",
       "    .dataframe tbody tr th {\n",
       "        vertical-align: top;\n",
       "    }\n",
       "\n",
       "    .dataframe thead th {\n",
       "        text-align: right;\n",
       "    }\n",
       "</style>\n",
       "<table border=\"1\" class=\"dataframe\">\n",
       "  <thead>\n",
       "    <tr style=\"text-align: right;\">\n",
       "      <th></th>\n",
       "      <th>title</th>\n",
       "      <th>overview</th>\n",
       "      <th>runtime</th>\n",
       "      <th>tagline</th>\n",
       "      <th>adult</th>\n",
       "      <th>vote_average</th>\n",
       "      <th>vote_count</th>\n",
       "      <th>genres</th>\n",
       "      <th>production_companies</th>\n",
       "      <th>directors</th>\n",
       "      <th>actors</th>\n",
       "    </tr>\n",
       "  </thead>\n",
       "  <tbody>\n",
       "    <tr>\n",
       "      <th>0</th>\n",
       "      <td>John Wick: Chapter 4</td>\n",
       "      <td>With the price on his head ever increasing, Jo...</td>\n",
       "      <td>170</td>\n",
       "      <td>No way back, one way out.</td>\n",
       "      <td>False</td>\n",
       "      <td>7.979</td>\n",
       "      <td>2337</td>\n",
       "      <td>['Action', 'Thriller', 'Crime']</td>\n",
       "      <td>['Thunder Road', '87Eleven', 'Summit Entertain...</td>\n",
       "      <td>['Chad Stahelski']</td>\n",
       "      <td>['Keanu Reeves', 'Donnie Yen', 'Bill Skarsgård...</td>\n",
       "    </tr>\n",
       "    <tr>\n",
       "      <th>1</th>\n",
       "      <td>Fast X</td>\n",
       "      <td>Over many missions and against impossible odds...</td>\n",
       "      <td>142</td>\n",
       "      <td>The end of the road begins.</td>\n",
       "      <td>False</td>\n",
       "      <td>7.058</td>\n",
       "      <td>642</td>\n",
       "      <td>['Action', 'Crime', 'Thriller']</td>\n",
       "      <td>['Universal Pictures', 'Original Film', 'One R...</td>\n",
       "      <td>['Louis Leterrier']</td>\n",
       "      <td>['Vin Diesel', 'Michelle Rodriguez', 'Tyrese G...</td>\n",
       "    </tr>\n",
       "    <tr>\n",
       "      <th>2</th>\n",
       "      <td>Sisu</td>\n",
       "      <td>Deep in the wilderness of Lapland, Aatami Korp...</td>\n",
       "      <td>91</td>\n",
       "      <td>Vengeance is golden.</td>\n",
       "      <td>False</td>\n",
       "      <td>7.533</td>\n",
       "      <td>498</td>\n",
       "      <td>['Action', 'War']</td>\n",
       "      <td>['Subzero Film Entertainment', 'Good Chaos', '...</td>\n",
       "      <td>['Jalmari Helander']</td>\n",
       "      <td>['Jorma Tommila', 'Aksel Hennie', 'Jack Doolan...</td>\n",
       "    </tr>\n",
       "  </tbody>\n",
       "</table>\n",
       "</div>"
      ],
      "text/plain": [
       "                  title                                           overview  \\\n",
       "0  John Wick: Chapter 4  With the price on his head ever increasing, Jo...   \n",
       "1                Fast X  Over many missions and against impossible odds...   \n",
       "2                  Sisu  Deep in the wilderness of Lapland, Aatami Korp...   \n",
       "\n",
       "   runtime                      tagline  adult  vote_average  vote_count  \\\n",
       "0      170    No way back, one way out.  False         7.979        2337   \n",
       "1      142  The end of the road begins.  False         7.058         642   \n",
       "2       91         Vengeance is golden.  False         7.533         498   \n",
       "\n",
       "                            genres  \\\n",
       "0  ['Action', 'Thriller', 'Crime']   \n",
       "1  ['Action', 'Crime', 'Thriller']   \n",
       "2                ['Action', 'War']   \n",
       "\n",
       "                                production_companies             directors  \\\n",
       "0  ['Thunder Road', '87Eleven', 'Summit Entertain...    ['Chad Stahelski']   \n",
       "1  ['Universal Pictures', 'Original Film', 'One R...   ['Louis Leterrier']   \n",
       "2  ['Subzero Film Entertainment', 'Good Chaos', '...  ['Jalmari Helander']   \n",
       "\n",
       "                                              actors  \n",
       "0  ['Keanu Reeves', 'Donnie Yen', 'Bill Skarsgård...  \n",
       "1  ['Vin Diesel', 'Michelle Rodriguez', 'Tyrese G...  \n",
       "2  ['Jorma Tommila', 'Aksel Hennie', 'Jack Doolan...  "
      ]
     },
     "execution_count": 5,
     "metadata": {},
     "output_type": "execute_result"
    }
   ],
   "source": [
    "df.head(3)"
   ]
  },
  {
   "attachments": {},
   "cell_type": "markdown",
   "metadata": {},
   "source": [
    "## Preprocessing data"
   ]
  },
  {
   "attachments": {},
   "cell_type": "markdown",
   "metadata": {},
   "source": [
    "We can use the average ratings of the movie as the score but using this won't be fair enough since a movie with 9.0 average rating and only 1 votes cannot be considered better than the movie with 8.5 as as average rating but 100 votes.\n",
    "\n",
    "We will use this algoritm to calculate movie rating.\n",
    "![](https://image.ibb.co/jYWZp9/wr.png)\n",
    "\n",
    "* v is the number of votes for the movie\n",
    "* m is the minimum votes required to be listed in the chart\n",
    "* R is the average rating of the movie\n",
    "* C is the mean vote across the whole report\n",
    "\n",
    "We already have v(**vote_count**) and R (**vote_average**)"
   ]
  },
  {
   "cell_type": "code",
   "execution_count": 6,
   "metadata": {},
   "outputs": [],
   "source": [
    "# Define a new feature 'score' and calculate its value\n",
    "v = df['vote_count']\n",
    "R = df['vote_average']\n",
    "C = df['vote_average'].mean()\n",
    "m = df['vote_count']\n",
    "df = df.copy().loc[df['vote_count'] >= m]\n",
    "\n",
    "df['score_rating'] = (v/(v+m) * R) + (m/(m+v) * C)"
   ]
  },
  {
   "attachments": {},
   "cell_type": "markdown",
   "metadata": {},
   "source": [
    "#### Drop dupplicate data then reset index"
   ]
  },
  {
   "cell_type": "code",
   "execution_count": 7,
   "metadata": {},
   "outputs": [],
   "source": [
    "df = df.drop(columns=['vote_average', 'vote_count'])\n",
    "df = df.drop_duplicates(keep='first')\n",
    "df = df.reset_index(drop=True)"
   ]
  },
  {
   "attachments": {},
   "cell_type": "markdown",
   "metadata": {},
   "source": [
    "### Remove outlier"
   ]
  },
  {
   "cell_type": "code",
   "execution_count": 8,
   "metadata": {},
   "outputs": [],
   "source": [
    "def remove_outlier(df_in, col_name, lower_score=0, upper_score=1):\n",
    "    q1 = df_in[col_name].quantile(lower_score)\n",
    "    q3 = df_in[col_name].quantile(upper_score)\n",
    "    iqr = q3-q1 #Interquartile range\n",
    "    fence_low  = q1-1.5*iqr\n",
    "    fence_high = q3+1.5*iqr\n",
    "    df_out = df_in.loc[(df_in[col_name] > fence_low) & (df_in[col_name] < fence_high)]\n",
    "    return df_out"
   ]
  },
  {
   "cell_type": "code",
   "execution_count": 9,
   "metadata": {},
   "outputs": [],
   "source": [
    "df = remove_outlier(df, 'score_rating', lower_score=0.2, upper_score=0.85)"
   ]
  },
  {
   "cell_type": "code",
   "execution_count": 10,
   "metadata": {},
   "outputs": [],
   "source": [
    "# Parse the stringified features into their corresponding python objects\n",
    "features = ['actors', 'directors', 'production_companies', 'genres']\n",
    "for feature in features:\n",
    "    df[feature] = df[feature].apply(literal_eval)"
   ]
  },
  {
   "cell_type": "code",
   "execution_count": 11,
   "metadata": {},
   "outputs": [
    {
     "data": {
      "text/html": [
       "<div>\n",
       "<style scoped>\n",
       "    .dataframe tbody tr th:only-of-type {\n",
       "        vertical-align: middle;\n",
       "    }\n",
       "\n",
       "    .dataframe tbody tr th {\n",
       "        vertical-align: top;\n",
       "    }\n",
       "\n",
       "    .dataframe thead th {\n",
       "        text-align: right;\n",
       "    }\n",
       "</style>\n",
       "<table border=\"1\" class=\"dataframe\">\n",
       "  <thead>\n",
       "    <tr style=\"text-align: right;\">\n",
       "      <th></th>\n",
       "      <th>title</th>\n",
       "      <th>overview</th>\n",
       "      <th>runtime</th>\n",
       "      <th>tagline</th>\n",
       "      <th>adult</th>\n",
       "      <th>genres</th>\n",
       "      <th>production_companies</th>\n",
       "      <th>directors</th>\n",
       "      <th>actors</th>\n",
       "      <th>score_rating</th>\n",
       "    </tr>\n",
       "  </thead>\n",
       "  <tbody>\n",
       "    <tr>\n",
       "      <th>0</th>\n",
       "      <td>John Wick: Chapter 4</td>\n",
       "      <td>With the price on his head ever increasing, Jo...</td>\n",
       "      <td>170</td>\n",
       "      <td>No way back, one way out.</td>\n",
       "      <td>False</td>\n",
       "      <td>[Action, Thriller, Crime]</td>\n",
       "      <td>[Thunder Road, 87Eleven, Summit Entertainment,...</td>\n",
       "      <td>[Chad Stahelski]</td>\n",
       "      <td>[Keanu Reeves, Donnie Yen, Bill Skarsgård, Ian...</td>\n",
       "      <td>7.19186</td>\n",
       "    </tr>\n",
       "    <tr>\n",
       "      <th>1</th>\n",
       "      <td>Fast X</td>\n",
       "      <td>Over many missions and against impossible odds...</td>\n",
       "      <td>142</td>\n",
       "      <td>The end of the road begins.</td>\n",
       "      <td>False</td>\n",
       "      <td>[Action, Crime, Thriller]</td>\n",
       "      <td>[Universal Pictures, Original Film, One Race, ...</td>\n",
       "      <td>[Louis Leterrier]</td>\n",
       "      <td>[Vin Diesel, Michelle Rodriguez, Tyrese Gibson...</td>\n",
       "      <td>6.73136</td>\n",
       "    </tr>\n",
       "    <tr>\n",
       "      <th>2</th>\n",
       "      <td>Sisu</td>\n",
       "      <td>Deep in the wilderness of Lapland, Aatami Korp...</td>\n",
       "      <td>91</td>\n",
       "      <td>Vengeance is golden.</td>\n",
       "      <td>False</td>\n",
       "      <td>[Action, War]</td>\n",
       "      <td>[Subzero Film Entertainment, Good Chaos, Stage...</td>\n",
       "      <td>[Jalmari Helander]</td>\n",
       "      <td>[Jorma Tommila, Aksel Hennie, Jack Doolan, Mim...</td>\n",
       "      <td>6.96886</td>\n",
       "    </tr>\n",
       "  </tbody>\n",
       "</table>\n",
       "</div>"
      ],
      "text/plain": [
       "                  title                                           overview  \\\n",
       "0  John Wick: Chapter 4  With the price on his head ever increasing, Jo...   \n",
       "1                Fast X  Over many missions and against impossible odds...   \n",
       "2                  Sisu  Deep in the wilderness of Lapland, Aatami Korp...   \n",
       "\n",
       "   runtime                      tagline  adult                     genres  \\\n",
       "0      170    No way back, one way out.  False  [Action, Thriller, Crime]   \n",
       "1      142  The end of the road begins.  False  [Action, Crime, Thriller]   \n",
       "2       91         Vengeance is golden.  False              [Action, War]   \n",
       "\n",
       "                                production_companies           directors  \\\n",
       "0  [Thunder Road, 87Eleven, Summit Entertainment,...    [Chad Stahelski]   \n",
       "1  [Universal Pictures, Original Film, One Race, ...   [Louis Leterrier]   \n",
       "2  [Subzero Film Entertainment, Good Chaos, Stage...  [Jalmari Helander]   \n",
       "\n",
       "                                              actors  score_rating  \n",
       "0  [Keanu Reeves, Donnie Yen, Bill Skarsgård, Ian...       7.19186  \n",
       "1  [Vin Diesel, Michelle Rodriguez, Tyrese Gibson...       6.73136  \n",
       "2  [Jorma Tommila, Aksel Hennie, Jack Doolan, Mim...       6.96886  "
      ]
     },
     "execution_count": 11,
     "metadata": {},
     "output_type": "execute_result"
    }
   ],
   "source": [
    "df.head(3)"
   ]
  },
  {
   "attachments": {},
   "cell_type": "markdown",
   "metadata": {},
   "source": [
    "#### Check null values on each features"
   ]
  },
  {
   "cell_type": "code",
   "execution_count": 12,
   "metadata": {
    "scrolled": true
   },
   "outputs": [
    {
     "data": {
      "text/plain": [
       "title                      0\n",
       "overview                  52\n",
       "runtime                    0\n",
       "tagline                 5018\n",
       "adult                      0\n",
       "genres                     0\n",
       "production_companies       0\n",
       "directors                  0\n",
       "actors                     0\n",
       "score_rating               0\n",
       "dtype: int64"
      ]
     },
     "execution_count": 12,
     "metadata": {},
     "output_type": "execute_result"
    }
   ],
   "source": [
    "df.isnull().sum()"
   ]
  },
  {
   "attachments": {},
   "cell_type": "markdown",
   "metadata": {},
   "source": [
    "#### Process null values"
   ]
  },
  {
   "cell_type": "code",
   "execution_count": 13,
   "metadata": {},
   "outputs": [],
   "source": [
    "# Replace missing 'tagline' and 'overview' with ''\n",
    "df['overview'].fillna('', inplace=True)\n",
    "df['tagline'].fillna('', inplace=True)\n",
    "df.dropna(inplace=True)"
   ]
  },
  {
   "attachments": {},
   "cell_type": "markdown",
   "metadata": {},
   "source": [
    "## EDA"
   ]
  },
  {
   "cell_type": "code",
   "execution_count": 14,
   "metadata": {},
   "outputs": [
    {
     "data": {
      "text/plain": [
       "Text(0.5, 1.0, 'Highest Score Movies')"
      ]
     },
     "execution_count": 14,
     "metadata": {},
     "output_type": "execute_result"
    },
    {
     "data": {
      "image/png": "[encoded data removed]",
      "text/plain": [
       "<Figure size 864x288 with 1 Axes>"
      ]
     },
     "metadata": {
      "needs_background": "light"
     },
     "output_type": "display_data"
    }
   ],
   "source": [
    "score_movie = df.sort_values('score_rating', ascending=False)[:5]\n",
    "\n",
    "plt.figure(figsize=(12,4))\n",
    "plt.barh(score_movie['title'], score_movie['score_rating'], align='center', color=(0.2, 0.4, 0.6))\n",
    "\n",
    "plt.gca().invert_yaxis()\n",
    "plt.xlabel(\"Score\")\n",
    "plt.title(\"Highest Score Movies\")"
   ]
  },
  {
   "attachments": {},
   "cell_type": "markdown",
   "metadata": {},
   "source": [
    "**The movie with the highest score_rating is \"Linkin Park and Friends - Celebrate Life in Hollywood\" with a score_rating of 8.10236. This indicates that it received the highest rating among the movies in the list.**\n",
    "\n",
    "**\"Linkin Park and Friends - Celebrate Life in Hollywood\" is a music-focused movie, but specific details such as the overview, tagline, production companies, directors, and actors are not provided in the dataframe. The movie has a runtime of 180 minutes and is not categorized as an adult film.**\n",
    "\n",
    "**The high score_rating suggests that it was well-received and highly regarded by viewers or critics who rated it. The involvement of Linkin Park and other artists may have contributed to its popularity.**\n",
    "\n",
    "**Please note that the score_rating is subjective and may vary among different viewers. It's always recommended to explore reviews and ratings from multiple sources to get a comprehensive understanding of a movie's quality.**"
   ]
  },
  {
   "cell_type": "code",
   "execution_count": 15,
   "metadata": {},
   "outputs": [
    {
     "data": {
      "text/plain": [
       "Text(0.5, 1.0, 'Lowest Score Movies')"
      ]
     },
     "execution_count": 15,
     "metadata": {},
     "output_type": "execute_result"
    },
    {
     "data": {
      "image/png": "[encoded data removed]",
      "text/plain": [
       "<Figure size 864x288 with 1 Axes>"
      ]
     },
     "metadata": {
      "needs_background": "light"
     },
     "output_type": "display_data"
    }
   ],
   "source": [
    "score_movie = df.sort_values('score_rating', ascending=True)[:5]\n",
    "\n",
    "plt.figure(figsize=(12,4))\n",
    "plt.barh(score_movie['title'], score_movie['score_rating'], align='center', color=(0.5, 0.7, 0.5))\n",
    "\n",
    "plt.gca().invert_yaxis()\n",
    "plt.xlabel(\"Score\")\n",
    "plt.title(\"Lowest Score Movies\")"
   ]
  },
  {
   "attachments": {},
   "cell_type": "markdown",
   "metadata": {},
   "source": [
    "**The movie with the lowest score_rating is \"Grizzly II: Revenge\" with a score_rating of 4.78886. This indicates that it received a relatively low rating compared to the other movies in the list.**\n",
    "\n",
    "**\"Grizzly II: Revenge\" is a horror, music, and thriller film where all hell breaks loose when a giant grizzly seeks revenge. The movie has a runtime of 74 minutes and is directed by André Szöts. It features actors such as Steve Inwood, Deborah Raffin, and John Rhys-Davies.**\n",
    "\n",
    "**It's important to note that the score_rating is subjective and may vary among different viewers. The low rating of \"Grizzly II: Revenge\" suggests that it may not have been well-received by the audience or critics. However, it's always recommended to explore reviews and ratings from multiple sources to get a comprehensive understanding of a movie's quality and make your own judgment.**"
   ]
  },
  {
   "cell_type": "code",
   "execution_count": 16,
   "metadata": {},
   "outputs": [
    {
     "data": {
      "image/png": "[encoded data removed]",
      "text/plain": [
       "<Figure size 720x432 with 1 Axes>"
      ]
     },
     "metadata": {
      "needs_background": "light"
     },
     "output_type": "display_data"
    }
   ],
   "source": [
    "df_genre = df['genres'].apply(pd.Series).stack().reset_index(level=1, drop=True).reset_index(name='genre').drop('index', axis=1)\n",
    "\n",
    "plt.figure(figsize=(10, 6))\n",
    "df_genre.groupby('genre')['genre'].count().sort_values(ascending=False).plot(kind='bar', color=(0.7, 0.2, 0.5))\n",
    "plt.title(\"Genres count\")\n",
    "plt.ylabel('Count')\n",
    "plt.show()"
   ]
  },
  {
   "attachments": {},
   "cell_type": "markdown",
   "metadata": {},
   "source": [
    "**Drama is the most common genre, with 4822 movies falling under this category. Drama films typically focus on emotional themes and character development, making them a popular choice among filmmakers and audiences.**\n",
    "\n",
    "**Comedy is the second most prevalent genre, with 3021 movies. Comedy films aim to entertain and make the audience laugh, offering light-hearted and humorous storytelling.**\n",
    "\n",
    "**Thriller is the third most common genre, with 2920 movies. Thrillers typically involve suspense, tension, and excitement, keeping the audience engaged with unpredictable plot twists and intense storytelling.**\n",
    "\n",
    "**Action and Romance genres follow closely with 2765 and 2024 movies, respectively. Action movies offer thrilling sequences, stunts, and often involve conflicts or battles. Romance films revolve around love and relationships, appealing to audiences seeking emotional connections and heartwarming narratives.**\n",
    "\n",
    "**Adventure, Horror, Family, and Animation genres also have a significant presence, each with over 1500 movies. Adventure films often involve exciting journeys and exploration. Horror movies aim to evoke fear and suspense, while family and animation genres cater to younger audiences and offer wholesome, engaging content.**\n",
    "\n",
    "**Documentary and TV Movie genres have relatively high counts as well, with 1594 and 1517 movies, respectively. Documentaries provide factual and informative content, while TV movies are made for television broadcasts and cover a wide range of genres and topics.**\n",
    "\n",
    "**Crime, Fantasy, Mystery, Science Fiction, History, Music, War, and Western genres have varying levels of representation, each with several hundred movies.**\n",
    "\n",
    "**Overall, the conclusions from this genre distribution indicate that there is a diverse range of movie genres available, catering to different tastes and preferences of audiences. Drama, Comedy, Thriller, Action, and Romance remain popular choices, while genres like Documentary, Family, and Animation also have significant followings.**"
   ]
  },
  {
   "cell_type": "code",
   "execution_count": 17,
   "metadata": {},
   "outputs": [
    {
     "data": {
      "image/png": "[encoded data removed]",
      "text/plain": [
       "<Figure size 432x720 with 1 Axes>"
      ]
     },
     "metadata": {
      "needs_background": "light"
     },
     "output_type": "display_data"
    }
   ],
   "source": [
    "df_prod = df['directors'].apply(len).reset_index(name='prod').drop('index', axis=1)\n",
    "\n",
    "plt.figure(figsize=(6, 10))\n",
    "df_prod.groupby('prod')['prod'].count().sort_values(ascending=False)[:2].plot(kind='barh', color=(0.2, 0.2, 0.5))\n",
    "plt.title(\"Executive producers\")\n",
    "plt.ylabel('Number of Producers')\n",
    "plt.xlabel('Movies')\n",
    "plt.show()"
   ]
  },
  {
   "attachments": {},
   "cell_type": "markdown",
   "metadata": {},
   "source": [
    "**The majority of movies in the dataset are directed by a single director, accounting for 11,703 instances. This suggests that solo directorship is the most common approach in filmmaking. However, there are also 1,006 movies that involve multiple directors, indicating that collaborative directorial efforts are present but less prevalent in the dataset.**"
   ]
  },
  {
   "cell_type": "code",
   "execution_count": 18,
   "metadata": {},
   "outputs": [
    {
     "data": {
      "image/png": "[encoded data removed]",
      "text/plain": [
       "<Figure size 432x576 with 1 Axes>"
      ]
     },
     "metadata": {
      "needs_background": "light"
     },
     "output_type": "display_data"
    }
   ],
   "source": [
    "df_company = df['production_companies'].apply(len).reset_index(name='company').drop('index', axis=1)\n",
    "\n",
    "plt.figure(figsize=(6, 8))\n",
    "df_company.groupby('company')['company'].count().sort_values(ascending=True).plot(kind='barh', color='orange')\n",
    "plt.title(\"Production company count\")\n",
    "plt.xlabel('Count')\n",
    "plt.show()"
   ]
  },
  {
   "attachments": {},
   "cell_type": "markdown",
   "metadata": {},
   "source": [
    "**The majority of movies in the dataset are produced by either two production companies or a single production company, with 2,885 and 2,875 instances respectively. This suggests that movies commonly involve collaborations between two companies or are produced by a single company. However, there are also movies that involve a higher number of production companies, with the count gradually decreasing as the number of companies involved increases.**"
   ]
  },
  {
   "attachments": {},
   "cell_type": "markdown",
   "metadata": {},
   "source": [
    "## Machine learning and Deep learning"
   ]
  },
  {
   "attachments": {},
   "cell_type": "markdown",
   "metadata": {},
   "source": [
    "#### Encode object column"
   ]
  },
  {
   "cell_type": "code",
   "execution_count": 19,
   "metadata": {},
   "outputs": [],
   "source": [
    "# Initialize LabelEncoder\n",
    "le = LabelEncoder()\n",
    "\n",
    "# Fit and transform 'adult' column\n",
    "df['adult'] = le.fit_transform(df['adult'])"
   ]
  },
  {
   "attachments": {},
   "cell_type": "markdown",
   "metadata": {},
   "source": [
    "#### Processing text feature"
   ]
  },
  {
   "cell_type": "code",
   "execution_count": 20,
   "metadata": {},
   "outputs": [],
   "source": [
    "def process_text_list(list_value):\n",
    "    return ' '.join(list_value)"
   ]
  },
  {
   "cell_type": "code",
   "execution_count": 21,
   "metadata": {},
   "outputs": [],
   "source": [
    "df['genres'] = df['genres'].apply(process_text_list)\n",
    "df['production_companies'] = df['production_companies'].apply(process_text_list)\n",
    "df['directors'] = df['directors'].apply(process_text_list)\n",
    "df['actors'] = df['actors'].apply(process_text_list)"
   ]
  },
  {
   "cell_type": "code",
   "execution_count": 22,
   "metadata": {},
   "outputs": [],
   "source": [
    "stop_words = set(stopwords.words('english'))\n",
    "st = SnowballStemmer('english')"
   ]
  },
  {
   "cell_type": "code",
   "execution_count": 23,
   "metadata": {},
   "outputs": [],
   "source": [
    "def clean_text_data(df_in, col):\n",
    "    # change to lower and remove spaces on either side\n",
    "    df_in[col] = df_in[col].apply(lambda x: x.lower().strip())\n",
    "    # remove extra spaces in between\n",
    "    df_in[col] = df_in[col].apply(lambda x: re.sub(' +', ' ', x))\n",
    "    # remove punctuation\n",
    "    df_in[col] = df_in[col].apply(lambda x: re.sub('[^a-zA-Z]', ' ', x))\n",
    "    # remove stopwords and get the stem\n",
    "    df_in[col] = df_in[col].apply(lambda x: ' '.join(st.stem(text) for text in x.split() if text not in stop_words))\n",
    "    return df_in[col]"
   ]
  },
  {
   "cell_type": "code",
   "execution_count": 24,
   "metadata": {},
   "outputs": [],
   "source": [
    "df['overview'] = df['overview'].astype(str)"
   ]
  },
  {
   "cell_type": "code",
   "execution_count": 25,
   "metadata": {},
   "outputs": [],
   "source": [
    "df['overview'] = clean_text_data(df, 'overview')\n",
    "df['genres'] = clean_text_data(df, 'genres')\n",
    "df['production_companies'] = clean_text_data(df, 'production_companies')\n",
    "df['directors'] = clean_text_data(df, 'directors')\n",
    "df['actors'] = clean_text_data(df, 'actors')"
   ]
  },
  {
   "cell_type": "code",
   "execution_count": 26,
   "metadata": {},
   "outputs": [],
   "source": [
    "def create_soup(x):\n",
    "    return x['title'] + ' ' + x['overview'] + ' ' + x['tagline'] + ' ' + x['genres'] + ' ' + x['production_companies'] + ' ' + x['directors'] + ' ' + x['actors']"
   ]
  },
  {
   "cell_type": "code",
   "execution_count": 27,
   "metadata": {},
   "outputs": [],
   "source": [
    "df['soup'] = df.apply(create_soup, axis=1)\n",
    "\n",
    "df = df.drop(columns=['title', 'overview', 'tagline', 'genres', 'production_companies', 'directors', 'actors'])"
   ]
  },
  {
   "attachments": {},
   "cell_type": "markdown",
   "metadata": {},
   "source": [
    "#### Normalization"
   ]
  },
  {
   "cell_type": "code",
   "execution_count": 28,
   "metadata": {},
   "outputs": [],
   "source": [
    "scaler = StandardScaler()\n",
    "df['runtime'] = scaler.fit_transform(np.array(df['runtime']).reshape(-1, 1))"
   ]
  },
  {
   "cell_type": "code",
   "execution_count": 29,
   "metadata": {},
   "outputs": [],
   "source": [
    "df = df.reset_index(drop=True)"
   ]
  },
  {
   "attachments": {},
   "cell_type": "markdown",
   "metadata": {},
   "source": [
    "#### Embedding text features"
   ]
  },
  {
   "cell_type": "code",
   "execution_count": 30,
   "metadata": {},
   "outputs": [
    {
     "data": {
      "application/vnd.jupyter.widget-view+json": {
       "model_id": "ae9dd68b339c43f68bafe87457116e78",
       "version_major": 2,
       "version_minor": 0
      },
      "text/plain": [
       "Batches:   0%|          | 0/26 [00:00<?, ?it/s]"
      ]
     },
     "metadata": {},
     "output_type": "display_data"
    }
   ],
   "source": [
    "from sentence_transformers import SentenceTransformer\n",
    "embedding_model = SentenceTransformer('paraphrase-MiniLM-L3-v2')\n",
    "\n",
    "# encode all sentences\n",
    "embeddings = embedding_model.encode(df['soup'], batch_size=512, show_progress_bar=True)"
   ]
  },
  {
   "cell_type": "code",
   "execution_count": 31,
   "metadata": {},
   "outputs": [],
   "source": [
    "df_text = pd.DataFrame(embeddings)\n",
    "df = pd.concat([df, df_text], axis=1)"
   ]
  },
  {
   "cell_type": "code",
   "execution_count": 32,
   "metadata": {},
   "outputs": [],
   "source": [
    "df = df.drop(['runtime', 'soup', 'adult'], axis=1) #only keep text data"
   ]
  },
  {
   "cell_type": "code",
   "execution_count": 33,
   "metadata": {},
   "outputs": [
    {
     "data": {
      "text/html": [
       "<div>\n",
       "<style scoped>\n",
       "    .dataframe tbody tr th:only-of-type {\n",
       "        vertical-align: middle;\n",
       "    }\n",
       "\n",
       "    .dataframe tbody tr th {\n",
       "        vertical-align: top;\n",
       "    }\n",
       "\n",
       "    .dataframe thead th {\n",
       "        text-align: right;\n",
       "    }\n",
       "</style>\n",
       "<table border=\"1\" class=\"dataframe\">\n",
       "  <thead>\n",
       "    <tr style=\"text-align: right;\">\n",
       "      <th></th>\n",
       "      <th>score_rating</th>\n",
       "      <th>0</th>\n",
       "      <th>1</th>\n",
       "      <th>2</th>\n",
       "      <th>3</th>\n",
       "      <th>4</th>\n",
       "      <th>5</th>\n",
       "      <th>6</th>\n",
       "      <th>7</th>\n",
       "      <th>8</th>\n",
       "      <th>...</th>\n",
       "      <th>374</th>\n",
       "      <th>375</th>\n",
       "      <th>376</th>\n",
       "      <th>377</th>\n",
       "      <th>378</th>\n",
       "      <th>379</th>\n",
       "      <th>380</th>\n",
       "      <th>381</th>\n",
       "      <th>382</th>\n",
       "      <th>383</th>\n",
       "    </tr>\n",
       "  </thead>\n",
       "  <tbody>\n",
       "    <tr>\n",
       "      <th>0</th>\n",
       "      <td>7.19186</td>\n",
       "      <td>0.049993</td>\n",
       "      <td>-0.008717</td>\n",
       "      <td>0.024690</td>\n",
       "      <td>0.008969</td>\n",
       "      <td>0.063074</td>\n",
       "      <td>-0.077994</td>\n",
       "      <td>0.223947</td>\n",
       "      <td>-0.043536</td>\n",
       "      <td>0.122065</td>\n",
       "      <td>...</td>\n",
       "      <td>-0.094407</td>\n",
       "      <td>0.304338</td>\n",
       "      <td>-0.118443</td>\n",
       "      <td>-0.053338</td>\n",
       "      <td>-0.083642</td>\n",
       "      <td>-0.146300</td>\n",
       "      <td>-0.028733</td>\n",
       "      <td>-0.235244</td>\n",
       "      <td>-0.041871</td>\n",
       "      <td>-0.171734</td>\n",
       "    </tr>\n",
       "    <tr>\n",
       "      <th>1</th>\n",
       "      <td>6.73136</td>\n",
       "      <td>-0.151657</td>\n",
       "      <td>0.139662</td>\n",
       "      <td>-0.024836</td>\n",
       "      <td>0.007468</td>\n",
       "      <td>0.135099</td>\n",
       "      <td>-0.106904</td>\n",
       "      <td>0.116109</td>\n",
       "      <td>0.110023</td>\n",
       "      <td>0.113366</td>\n",
       "      <td>...</td>\n",
       "      <td>0.033366</td>\n",
       "      <td>0.079112</td>\n",
       "      <td>-0.059080</td>\n",
       "      <td>-0.542577</td>\n",
       "      <td>0.023766</td>\n",
       "      <td>0.080396</td>\n",
       "      <td>0.226773</td>\n",
       "      <td>0.050518</td>\n",
       "      <td>0.147551</td>\n",
       "      <td>0.087656</td>\n",
       "    </tr>\n",
       "    <tr>\n",
       "      <th>2</th>\n",
       "      <td>6.96886</td>\n",
       "      <td>0.091568</td>\n",
       "      <td>-0.034332</td>\n",
       "      <td>0.179383</td>\n",
       "      <td>0.026452</td>\n",
       "      <td>-0.146983</td>\n",
       "      <td>-0.174554</td>\n",
       "      <td>0.335386</td>\n",
       "      <td>0.123930</td>\n",
       "      <td>0.198424</td>\n",
       "      <td>...</td>\n",
       "      <td>0.186103</td>\n",
       "      <td>0.055713</td>\n",
       "      <td>-0.227691</td>\n",
       "      <td>-0.233185</td>\n",
       "      <td>0.218381</td>\n",
       "      <td>0.151435</td>\n",
       "      <td>0.140904</td>\n",
       "      <td>0.095704</td>\n",
       "      <td>-0.006612</td>\n",
       "      <td>0.102342</td>\n",
       "    </tr>\n",
       "  </tbody>\n",
       "</table>\n",
       "<p>3 rows × 385 columns</p>\n",
       "</div>"
      ],
      "text/plain": [
       "   score_rating         0         1         2         3         4         5  \\\n",
       "0       7.19186  0.049993 -0.008717  0.024690  0.008969  0.063074 -0.077994   \n",
       "1       6.73136 -0.151657  0.139662 -0.024836  0.007468  0.135099 -0.106904   \n",
       "2       6.96886  0.091568 -0.034332  0.179383  0.026452 -0.146983 -0.174554   \n",
       "\n",
       "          6         7         8  ...       374       375       376       377  \\\n",
       "0  0.223947 -0.043536  0.122065  ... -0.094407  0.304338 -0.118443 -0.053338   \n",
       "1  0.116109  0.110023  0.113366  ...  0.033366  0.079112 -0.059080 -0.542577   \n",
       "2  0.335386  0.123930  0.198424  ...  0.186103  0.055713 -0.227691 -0.233185   \n",
       "\n",
       "        378       379       380       381       382       383  \n",
       "0 -0.083642 -0.146300 -0.028733 -0.235244 -0.041871 -0.171734  \n",
       "1  0.023766  0.080396  0.226773  0.050518  0.147551  0.087656  \n",
       "2  0.218381  0.151435  0.140904  0.095704 -0.006612  0.102342  \n",
       "\n",
       "[3 rows x 385 columns]"
      ]
     },
     "execution_count": 33,
     "metadata": {},
     "output_type": "execute_result"
    }
   ],
   "source": [
    "df.head(3)"
   ]
  },
  {
   "attachments": {},
   "cell_type": "markdown",
   "metadata": {},
   "source": [
    "#### Split data to train and test"
   ]
  },
  {
   "cell_type": "code",
   "execution_count": 34,
   "metadata": {},
   "outputs": [],
   "source": [
    "# divide the data into (X) and (y)\n",
    "X = df.drop('score_rating', axis=1)\n",
    "y = df['score_rating']"
   ]
  },
  {
   "cell_type": "code",
   "execution_count": 35,
   "metadata": {},
   "outputs": [],
   "source": [
    "# Splitting the data\n",
    "X_train, X_test, y_train, y_test = train_test_split(X, y, test_size=0.2, random_state=42)"
   ]
  },
  {
   "attachments": {},
   "cell_type": "markdown",
   "metadata": {},
   "source": [
    "## Machine learning"
   ]
  },
  {
   "attachments": {},
   "cell_type": "markdown",
   "metadata": {},
   "source": [
    "#### Gridsearch Best parameters"
   ]
  },
  {
   "cell_type": "code",
   "execution_count": 37,
   "metadata": {},
   "outputs": [
    {
     "data": {
      "text/plain": [
       "GridSearchCV(estimator=SVR(),\n",
       "             param_grid={'C': [1, 3, 5], 'kernel': ('linear', 'rbf')})"
      ]
     },
     "execution_count": 37,
     "metadata": {},
     "output_type": "execute_result"
    }
   ],
   "source": [
    "parameters_rf = {'max_depth':[1, 3, 5], 'n_estimators':[100, 150, 200]}\n",
    "rf_grid = GridSearchCV(RandomForestRegressor(), parameters_rf)\n",
    "rf_grid.fit(X_train, y_train)\n",
    "\n",
    "parameters_svm = {'kernel':('linear', 'rbf'), 'C':[1, 3, 5]}\n",
    "svm_grid = GridSearchCV(SVR(), parameters_svm)\n",
    "svm_grid.fit(X_train, y_train)"
   ]
  },
  {
   "cell_type": "code",
   "execution_count": 38,
   "metadata": {},
   "outputs": [
    {
     "name": "stdout",
     "output_type": "stream",
     "text": [
      "Best parameters of Random Forest: {'max_depth': 5, 'n_estimators': 150}\n",
      "Best parameters of SVM: {'C': 1, 'kernel': 'rbf'}\n"
     ]
    }
   ],
   "source": [
    "print(\"Best parameters of Random Forest:\", rf_grid.best_params_)\n",
    "print(\"Best parameters of SVM:\", svm_grid.best_params_)"
   ]
  },
  {
   "attachments": {},
   "cell_type": "markdown",
   "metadata": {},
   "source": [
    "#### Train model with best parameters"
   ]
  },
  {
   "cell_type": "code",
   "execution_count": 36,
   "metadata": {},
   "outputs": [
    {
     "data": {
      "text/plain": [
       "SVR(C=1)"
      ]
     },
     "execution_count": 36,
     "metadata": {},
     "output_type": "execute_result"
    }
   ],
   "source": [
    "rf = RandomForestRegressor(n_estimators=150, max_depth=5)\n",
    "rf.fit(X_train, y_train)\n",
    "\n",
    "svm = SVR(C=1, kernel='rbf')\n",
    "svm.fit(X_train, y_train)"
   ]
  },
  {
   "cell_type": "code",
   "execution_count": 37,
   "metadata": {},
   "outputs": [],
   "source": [
    "svm_pred = svm.predict(X_test)\n",
    "rf_pred = rf.predict(X_test)"
   ]
  },
  {
   "attachments": {},
   "cell_type": "markdown",
   "metadata": {},
   "source": [
    "#### Evaluation"
   ]
  },
  {
   "cell_type": "code",
   "execution_count": 38,
   "metadata": {},
   "outputs": [
    {
     "name": "stdout",
     "output_type": "stream",
     "text": [
      "MAE score of SVM:  0.3290265606584648\n",
      "MAE score of Random Forest:  0.35423617295523235\n",
      "----------------------------------------------------------------------------------------------------\n",
      "MSE score of SVM:  0.18420446060620616\n",
      "MSE score of Random Forest:  0.2053797939641477\n"
     ]
    }
   ],
   "source": [
    "print(\"MAE score of SVM: \", mean_absolute_error(y_test, svm_pred,))\n",
    "print(\"MAE score of Random Forest: \", mean_absolute_error(y_test, rf_pred))\n",
    "print('-' * 100)\n",
    "print(\"MSE score of SVM: \", mean_squared_error(y_test, svm_pred))\n",
    "print(\"MSE score of Random Forest: \", mean_squared_error(y_test, rf_pred))"
   ]
  },
  {
   "attachments": {},
   "cell_type": "markdown",
   "metadata": {},
   "source": [
    "**Based on the Mean Absolute Error (MAE) scores, the SVM model outperforms the Random Forest model with a lower value of 0.329 compared to 0.354. Similarly, in terms of Mean Squared Error (MSE) scores, the SVM model performs better with a lower value of 0.184 compared to 0.206 for the Random Forest model. Therefore, the SVM model shows better accuracy in predicting the target variable compared to the Random Forest model.**"
   ]
  },
  {
   "attachments": {},
   "cell_type": "markdown",
   "metadata": {},
   "source": [
    "## Deep learning"
   ]
  },
  {
   "cell_type": "code",
   "execution_count": 39,
   "metadata": {},
   "outputs": [],
   "source": [
    "from tensorflow import keras\n",
    "import tensorflow as tf\n",
    "from tensorflow.keras.models import Sequential\n",
    "from tensorflow.keras.layers import Dense, Activation, BatchNormalization, Dropout"
   ]
  },
  {
   "attachments": {},
   "cell_type": "markdown",
   "metadata": {},
   "source": [
    "### Model"
   ]
  },
  {
   "cell_type": "code",
   "execution_count": 40,
   "metadata": {},
   "outputs": [],
   "source": [
    "model_ann = Sequential()\n",
    "model_ann.add(Dense(512, input_dim=X_train.shape[1]))\n",
    "model_ann.add(Activation('relu'))\n",
    "model_ann.add(Dense(128))\n",
    "model_ann.add(Activation('relu'))\n",
    "model_ann.add(Dense(128))\n",
    "model_ann.add(Activation('relu'))\n",
    "model_ann.add(Dense(64))\n",
    "model_ann.add(Activation('relu'))\n",
    "model_ann.add(Dropout(0.3))\n",
    "model_ann.add(Dense(1))"
   ]
  },
  {
   "attachments": {},
   "cell_type": "markdown",
   "metadata": {},
   "source": [
    "This model is a sequential neural network with multiple hidden layers consisting of dense (fully connected) layers. It uses the ReLU activation function to introduce non-linearity and dropout regularization to prevent overfitting. The final layer is a single neuron without an activation function, indicating a regression task."
   ]
  },
  {
   "attachments": {},
   "cell_type": "markdown",
   "metadata": {},
   "source": [
    "### Optimizer"
   ]
  },
  {
   "cell_type": "code",
   "execution_count": 41,
   "metadata": {},
   "outputs": [],
   "source": [
    "opt = keras.optimizers.Adam(learning_rate=0.001)\n",
    "model_ann.compile(loss=\"mse\", optimizer=opt)"
   ]
  },
  {
   "attachments": {},
   "cell_type": "markdown",
   "metadata": {},
   "source": [
    "This model is compiled with the mean squared error (MSE) loss function, indicating a regression task. It uses the Adam optimizer with a learning rate of 0.001, which is a popular choice for gradient-based optimization. The combination of MSE loss and Adam optimizer suggests that the model aims to minimize the mean squared error between the predicted and actual values during training."
   ]
  },
  {
   "attachments": {},
   "cell_type": "markdown",
   "metadata": {},
   "source": [
    "### Training"
   ]
  },
  {
   "cell_type": "code",
   "execution_count": null,
   "metadata": {},
   "outputs": [],
   "source": [
    "history = model_ann.fit(np.array(X_train), np.array(y_train), \n",
    "                        epochs=500, batch_size=512, validation_data=(np.array(X_test), np.array(y_test)))  \n"
   ]
  },
  {
   "attachments": {},
   "cell_type": "markdown",
   "metadata": {},
   "source": [
    "#### Evaluation"
   ]
  },
  {
   "cell_type": "code",
   "execution_count": 43,
   "metadata": {},
   "outputs": [
    {
     "data": {
      "image/png": "[encoded data removed]",
      "text/plain": [
       "<Figure size 432x288 with 1 Axes>"
      ]
     },
     "metadata": {
      "needs_background": "light"
     },
     "output_type": "display_data"
    }
   ],
   "source": [
    "plt.plot(history.history['loss'])\n",
    "plt.plot(history.history['val_loss'])\n",
    "plt.title('model loss')\n",
    "plt.ylabel('loss')\n",
    "plt.xlabel('epoch')\n",
    "plt.legend(['train', 'val'], loc='upper left')\n",
    "plt.show()"
   ]
  },
  {
   "cell_type": "code",
   "execution_count": 44,
   "metadata": {},
   "outputs": [],
   "source": [
    "y_pred_ann = model_ann.predict(np.array(X_test)).flatten()"
   ]
  },
  {
   "cell_type": "code",
   "execution_count": 45,
   "metadata": {},
   "outputs": [
    {
     "name": "stdout",
     "output_type": "stream",
     "text": [
      "MAE score of Neural Network:  0.3732167240522942\n",
      "----------------------------------------------------------------------------------------------------\n",
      "MSE score of Neural Network:  0.23135393608305946\n"
     ]
    }
   ],
   "source": [
    "print(\"MAE score of Neural Network: \", mean_absolute_error(y_test, y_pred_ann))\n",
    "print('-' * 100)\n",
    "print(\"MSE score of Neural Network: \", mean_squared_error(y_test, y_pred_ann))"
   ]
  },
  {
   "attachments": {},
   "cell_type": "markdown",
   "metadata": {},
   "source": [
    "## Comparison"
   ]
  },
  {
   "cell_type": "code",
   "execution_count": 46,
   "metadata": {},
   "outputs": [
    {
     "data": {
      "image/png": "[encoded data removed]",
      "text/plain": [
       "<Figure size 432x288 with 1 Axes>"
      ]
     },
     "metadata": {
      "needs_background": "light"
     },
     "output_type": "display_data"
    }
   ],
   "source": [
    "models = ['Random forest', 'SVM', 'ANN']\n",
    "sc = [mean_squared_error(y_test, rf_pred), mean_squared_error(y_test, svm_pred), \n",
    "      mean_squared_error(y_test, y_pred_ann)]\n",
    "plt.bar(models, sc, align='center', color='cyan')\n",
    "plt.xlabel('Models')\n",
    "plt.ylabel('Mean Squared Error Score')\n",
    "plt.title('Comparison of Mean Squared Error Score')\n",
    "plt.show()"
   ]
  },
  {
   "cell_type": "code",
   "execution_count": 48,
   "metadata": {},
   "outputs": [
    {
     "data": {
      "image/png": "[encoded data removed]",
      "text/plain": [
       "<Figure size 432x288 with 1 Axes>"
      ]
     },
     "metadata": {
      "needs_background": "light"
     },
     "output_type": "display_data"
    }
   ],
   "source": [
    "models = ['Random forest', 'SVM', 'ANN']\n",
    "sc = [mean_absolute_error(y_test, rf_pred), mean_absolute_error(y_test, svm_pred), \n",
    "      mean_absolute_error(y_test, y_pred_ann)]\n",
    "plt.bar(models, sc, align='center', color='orange')\n",
    "plt.xlabel('Models')\n",
    "plt.ylabel('Mean Absolute Error Score')\n",
    "plt.title('Comparison of Mean Absolute Error Score')\n",
    "plt.show()"
   ]
  },
  {
   "attachments": {},
   "cell_type": "markdown",
   "metadata": {},
   "source": [
    "**=> Comparing the results, the Neural Network model has a higher MAE score of 0.380 compared to the SVM model's score of 0.329. Additionally, the Neural Network model has a higher MSE score of 0.239 compared to the SVM model's score of 0.184. This indicates that the SVM model performs better in terms of accuracy and precision compared to the Neural Network model in predicting the target variable.**"
   ]
  },
  {
   "cell_type": "code",
   "execution_count": null,
   "metadata": {},
   "outputs": [],
   "source": []
  }
 ],
 "metadata": {
  "kernelspec": {
   "display_name": "Python 3 (ipykernel)",
   "language": "python",
   "name": "python3"
  },
  "language_info": {
   "codemirror_mode": {
    "name": "ipython",
    "version": 3
   },
   "file_extension": ".py",
   "mimetype": "text/x-python",
   "name": "python",
   "nbconvert_exporter": "python",
   "pygments_lexer": "ipython3",
   "version": "3.7.8"
  }
 },
 "nbformat": 4,
 "nbformat_minor": 2
}
