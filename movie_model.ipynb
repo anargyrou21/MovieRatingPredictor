{
 "cells": [
  {
   "cell_type": "markdown",
   "metadata": {},
   "source": [
    "## Import libraries"
   ]
  },
  {
   "cell_type": "code",
   "execution_count": 98,
   "metadata": {},
   "outputs": [],
   "source": [
    "import pandas as pd\n",
    "import numpy as np\n",
    "from ast import literal_eval\n",
    "import matplotlib.pyplot as plt\n",
    "\n",
    "from sklearn.svm import SVR\n",
    "from sklearn.ensemble import RandomForestRegressor\n",
    "\n",
    "from sklearn.preprocessing import StandardScaler\n",
    "from sklearn.preprocessing import LabelEncoder\n",
    "from sklearn.model_selection import train_test_split\n",
    "from sklearn.metrics import mean_absolute_error, mean_squared_error, r2_score, accuracy_score\n",
    "from sklearn.model_selection import GridSearchCV\n",
    "\n",
    "import re\n",
    "from nltk.corpus import stopwords\n",
    "from nltk.stem.snowball import SnowballStemmer\n",
    "\n",
    "import warnings\n",
    "warnings.filterwarnings(\"ignore\")"
   ]
  },
  {
   "cell_type": "markdown",
   "metadata": {},
   "source": [
    "## Datasets preparation"
   ]
  },
  {
   "cell_type": "code",
   "execution_count": 99,
   "metadata": {},
   "outputs": [],
   "source": [
    "df= pd.read_csv(\"moviess.csv\")"
   ]
  },
  {
   "cell_type": "markdown",
   "metadata": {},
   "source": [
    "#### Check information from dataset"
   ]
  },
  {
   "cell_type": "code",
   "execution_count": 100,
   "metadata": {},
   "outputs": [
    {
     "name": "stdout",
     "output_type": "stream",
     "text": [
      "<class 'pandas.core.frame.DataFrame'>\n",
      "RangeIndex: 24079 entries, 0 to 24078\n",
      "Data columns (total 15 columns):\n",
      " #   Column                Non-Null Count  Dtype  \n",
      "---  ------                --------------  -----  \n",
      " 0   imdb_id               23504 non-null  object \n",
      " 1   title                 24079 non-null  object \n",
      " 2   overview              23923 non-null  object \n",
      " 3   release_date          24079 non-null  object \n",
      " 4   runtime               24079 non-null  int64  \n",
      " 5   status                24079 non-null  object \n",
      " 6   tagline               15736 non-null  object \n",
      " 7   adult                 24079 non-null  bool   \n",
      " 8   vote_average          24079 non-null  float64\n",
      " 9   vote_count            24079 non-null  int64  \n",
      " 10  genres                24079 non-null  object \n",
      " 11  production_companies  24079 non-null  object \n",
      " 12  directors             24079 non-null  object \n",
      " 13  actors                24079 non-null  object \n",
      " 14  rating_rounded        24079 non-null  int64  \n",
      "dtypes: bool(1), float64(1), int64(3), object(10)\n",
      "memory usage: 2.6+ MB\n"
     ]
    }
   ],
   "source": [
    "df.info()"
   ]
  },
  {
   "cell_type": "markdown",
   "metadata": {},
   "source": [
    "#### Keep released movies and then drop columns useless"
   ]
  },
  {
   "cell_type": "code",
   "execution_count": 52,
   "metadata": {},
   "outputs": [],
   "source": [
    "# Keep only the rows where the movie has been released\n",
    "df = df[(df['status'] == 'Released')]\n",
    "# Drop the 'status' column\n",
    "df = df.drop(columns=['release_date', 'imdb_id', 'status', 'rating_rounded'])"
   ]
  },
  {
   "cell_type": "code",
   "execution_count": 53,
   "metadata": {},
   "outputs": [
    {
     "data": {
      "text/html": [
       "<div>\n",
       "<style scoped>\n",
       "    .dataframe tbody tr th:only-of-type {\n",
       "        vertical-align: middle;\n",
       "    }\n",
       "\n",
       "    .dataframe tbody tr th {\n",
       "        vertical-align: top;\n",
       "    }\n",
       "\n",
       "    .dataframe thead th {\n",
       "        text-align: right;\n",
       "    }\n",
       "</style>\n",
       "<table border=\"1\" class=\"dataframe\">\n",
       "  <thead>\n",
       "    <tr style=\"text-align: right;\">\n",
       "      <th></th>\n",
       "      <th>title</th>\n",
       "      <th>overview</th>\n",
       "      <th>runtime</th>\n",
       "      <th>tagline</th>\n",
       "      <th>adult</th>\n",
       "      <th>vote_average</th>\n",
       "      <th>vote_count</th>\n",
       "      <th>genres</th>\n",
       "      <th>production_companies</th>\n",
       "      <th>directors</th>\n",
       "      <th>actors</th>\n",
       "    </tr>\n",
       "  </thead>\n",
       "  <tbody>\n",
       "    <tr>\n",
       "      <th>0</th>\n",
       "      <td>John Wick: Chapter 4</td>\n",
       "      <td>With the price on his head ever increasing, Jo...</td>\n",
       "      <td>170</td>\n",
       "      <td>No way back, one way out.</td>\n",
       "      <td>False</td>\n",
       "      <td>7.979</td>\n",
       "      <td>2337</td>\n",
       "      <td>['Action', 'Thriller', 'Crime']</td>\n",
       "      <td>['Thunder Road', '87Eleven', 'Summit Entertain...</td>\n",
       "      <td>['Chad Stahelski']</td>\n",
       "      <td>['Keanu Reeves', 'Donnie Yen', 'Bill Skarsgård...</td>\n",
       "    </tr>\n",
       "    <tr>\n",
       "      <th>1</th>\n",
       "      <td>Fast X</td>\n",
       "      <td>Over many missions and against impossible odds...</td>\n",
       "      <td>142</td>\n",
       "      <td>The end of the road begins.</td>\n",
       "      <td>False</td>\n",
       "      <td>7.058</td>\n",
       "      <td>642</td>\n",
       "      <td>['Action', 'Crime', 'Thriller']</td>\n",
       "      <td>['Universal Pictures', 'Original Film', 'One R...</td>\n",
       "      <td>['Louis Leterrier']</td>\n",
       "      <td>['Vin Diesel', 'Michelle Rodriguez', 'Tyrese G...</td>\n",
       "    </tr>\n",
       "    <tr>\n",
       "      <th>2</th>\n",
       "      <td>Sisu</td>\n",
       "      <td>Deep in the wilderness of Lapland, Aatami Korp...</td>\n",
       "      <td>91</td>\n",
       "      <td>Vengeance is golden.</td>\n",
       "      <td>False</td>\n",
       "      <td>7.533</td>\n",
       "      <td>498</td>\n",
       "      <td>['Action', 'War']</td>\n",
       "      <td>['Subzero Film Entertainment', 'Good Chaos', '...</td>\n",
       "      <td>['Jalmari Helander']</td>\n",
       "      <td>['Jorma Tommila', 'Aksel Hennie', 'Jack Doolan...</td>\n",
       "    </tr>\n",
       "  </tbody>\n",
       "</table>\n",
       "</div>"
      ],
      "text/plain": [
       "                  title                                           overview  \\\n",
       "0  John Wick: Chapter 4  With the price on his head ever increasing, Jo...   \n",
       "1                Fast X  Over many missions and against impossible odds...   \n",
       "2                  Sisu  Deep in the wilderness of Lapland, Aatami Korp...   \n",
       "\n",
       "   runtime                      tagline  adult  vote_average  vote_count  \\\n",
       "0      170    No way back, one way out.  False         7.979        2337   \n",
       "1      142  The end of the road begins.  False         7.058         642   \n",
       "2       91         Vengeance is golden.  False         7.533         498   \n",
       "\n",
       "                            genres  \\\n",
       "0  ['Action', 'Thriller', 'Crime']   \n",
       "1  ['Action', 'Crime', 'Thriller']   \n",
       "2                ['Action', 'War']   \n",
       "\n",
       "                                production_companies             directors  \\\n",
       "0  ['Thunder Road', '87Eleven', 'Summit Entertain...    ['Chad Stahelski']   \n",
       "1  ['Universal Pictures', 'Original Film', 'One R...   ['Louis Leterrier']   \n",
       "2  ['Subzero Film Entertainment', 'Good Chaos', '...  ['Jalmari Helander']   \n",
       "\n",
       "                                              actors  \n",
       "0  ['Keanu Reeves', 'Donnie Yen', 'Bill Skarsgård...  \n",
       "1  ['Vin Diesel', 'Michelle Rodriguez', 'Tyrese G...  \n",
       "2  ['Jorma Tommila', 'Aksel Hennie', 'Jack Doolan...  "
      ]
     },
     "execution_count": 53,
     "metadata": {},
     "output_type": "execute_result"
    }
   ],
   "source": [
    "df.head(3)"
   ]
  },
  {
   "cell_type": "markdown",
   "metadata": {},
   "source": [
    "## Preprocessing data"
   ]
  },
  {
   "cell_type": "markdown",
   "metadata": {},
   "source": [
    "We can use the average ratings of the movie as the score but using this won't be fair enough since a movie with 9.0 average rating and only 1 votes cannot be considered better than the movie with 8.5 as as average rating but 100 votes.\n",
    "\n",
    "We will use this algoritm to calculate movie rating.\n",
    "![](https://image.ibb.co/jYWZp9/wr.png)\n",
    "\n",
    "* v is the number of votes for the movie\n",
    "* m is the minimum votes required to be listed in the chart\n",
    "* R is the average rating of the movie\n",
    "* C is the mean vote across the whole report\n",
    "\n",
    "We already have v(**vote_count**) and R (**vote_average**)"
   ]
  },
  {
   "cell_type": "code",
   "execution_count": 54,
   "metadata": {},
   "outputs": [],
   "source": [
    "# Define a new feature 'score' and calculate its value\n",
    "v = df['vote_count']\n",
    "R = df['vote_average']\n",
    "C = df['vote_average'].mean()\n",
    "m = df['vote_count']\n",
    "df = df.copy().loc[df['vote_count'] >= m]\n",
    "\n",
    "df['score_rating'] = (v/(v+m) * R) + (m/(m+v) * C)"
   ]
  },
  {
   "cell_type": "markdown",
   "metadata": {},
   "source": [
    "#### Drop dupplicate data then reset index"
   ]
  },
  {
   "cell_type": "code",
   "execution_count": 55,
   "metadata": {},
   "outputs": [],
   "source": [
    "df = df.drop(columns=['vote_average', 'vote_count'])\n",
    "df = df.drop_duplicates(keep='first')\n",
    "df = df.reset_index(drop=True)"
   ]
  },
  {
   "cell_type": "markdown",
   "metadata": {},
   "source": [
    "### Remove outlier"
   ]
  },
  {
   "cell_type": "code",
   "execution_count": 56,
   "metadata": {},
   "outputs": [],
   "source": [
    "def remove_outlier(df_in, col_name, lower_score=0, upper_score=1):\n",
    "    q1 = df_in[col_name].quantile(lower_score)\n",
    "    q3 = df_in[col_name].quantile(upper_score)\n",
    "    iqr = q3-q1 #Interquartile range\n",
    "    fence_low  = q1-1.5*iqr\n",
    "    fence_high = q3+1.5*iqr\n",
    "    df_out = df_in.loc[(df_in[col_name] > fence_low) & (df_in[col_name] < fence_high)]\n",
    "    return df_out"
   ]
  },
  {
   "cell_type": "code",
   "execution_count": 57,
   "metadata": {},
   "outputs": [],
   "source": [
    "df = remove_outlier(df, 'score_rating', lower_score=0.2, upper_score=0.85)"
   ]
  },
  {
   "cell_type": "code",
   "execution_count": 58,
   "metadata": {},
   "outputs": [],
   "source": [
    "# Parse the stringified features into their corresponding python objects\n",
    "features = ['actors', 'directors', 'production_companies', 'genres']\n",
    "for feature in features:\n",
    "    df[feature] = df[feature].apply(literal_eval)"
   ]
  },
  {
   "cell_type": "code",
   "execution_count": 59,
   "metadata": {},
   "outputs": [
    {
     "data": {
      "text/html": [
       "<div>\n",
       "<style scoped>\n",
       "    .dataframe tbody tr th:only-of-type {\n",
       "        vertical-align: middle;\n",
       "    }\n",
       "\n",
       "    .dataframe tbody tr th {\n",
       "        vertical-align: top;\n",
       "    }\n",
       "\n",
       "    .dataframe thead th {\n",
       "        text-align: right;\n",
       "    }\n",
       "</style>\n",
       "<table border=\"1\" class=\"dataframe\">\n",
       "  <thead>\n",
       "    <tr style=\"text-align: right;\">\n",
       "      <th></th>\n",
       "      <th>title</th>\n",
       "      <th>overview</th>\n",
       "      <th>runtime</th>\n",
       "      <th>tagline</th>\n",
       "      <th>adult</th>\n",
       "      <th>genres</th>\n",
       "      <th>production_companies</th>\n",
       "      <th>directors</th>\n",
       "      <th>actors</th>\n",
       "      <th>score_rating</th>\n",
       "    </tr>\n",
       "  </thead>\n",
       "  <tbody>\n",
       "    <tr>\n",
       "      <th>0</th>\n",
       "      <td>John Wick: Chapter 4</td>\n",
       "      <td>With the price on his head ever increasing, Jo...</td>\n",
       "      <td>170</td>\n",
       "      <td>No way back, one way out.</td>\n",
       "      <td>False</td>\n",
       "      <td>[Action, Thriller, Crime]</td>\n",
       "      <td>[Thunder Road, 87Eleven, Summit Entertainment,...</td>\n",
       "      <td>[Chad Stahelski]</td>\n",
       "      <td>[Keanu Reeves, Donnie Yen, Bill Skarsgård, Ian...</td>\n",
       "      <td>7.19186</td>\n",
       "    </tr>\n",
       "    <tr>\n",
       "      <th>1</th>\n",
       "      <td>Fast X</td>\n",
       "      <td>Over many missions and against impossible odds...</td>\n",
       "      <td>142</td>\n",
       "      <td>The end of the road begins.</td>\n",
       "      <td>False</td>\n",
       "      <td>[Action, Crime, Thriller]</td>\n",
       "      <td>[Universal Pictures, Original Film, One Race, ...</td>\n",
       "      <td>[Louis Leterrier]</td>\n",
       "      <td>[Vin Diesel, Michelle Rodriguez, Tyrese Gibson...</td>\n",
       "      <td>6.73136</td>\n",
       "    </tr>\n",
       "    <tr>\n",
       "      <th>2</th>\n",
       "      <td>Sisu</td>\n",
       "      <td>Deep in the wilderness of Lapland, Aatami Korp...</td>\n",
       "      <td>91</td>\n",
       "      <td>Vengeance is golden.</td>\n",
       "      <td>False</td>\n",
       "      <td>[Action, War]</td>\n",
       "      <td>[Subzero Film Entertainment, Good Chaos, Stage...</td>\n",
       "      <td>[Jalmari Helander]</td>\n",
       "      <td>[Jorma Tommila, Aksel Hennie, Jack Doolan, Mim...</td>\n",
       "      <td>6.96886</td>\n",
       "    </tr>\n",
       "  </tbody>\n",
       "</table>\n",
       "</div>"
      ],
      "text/plain": [
       "                  title                                           overview  \\\n",
       "0  John Wick: Chapter 4  With the price on his head ever increasing, Jo...   \n",
       "1                Fast X  Over many missions and against impossible odds...   \n",
       "2                  Sisu  Deep in the wilderness of Lapland, Aatami Korp...   \n",
       "\n",
       "   runtime                      tagline  adult                     genres  \\\n",
       "0      170    No way back, one way out.  False  [Action, Thriller, Crime]   \n",
       "1      142  The end of the road begins.  False  [Action, Crime, Thriller]   \n",
       "2       91         Vengeance is golden.  False              [Action, War]   \n",
       "\n",
       "                                production_companies           directors  \\\n",
       "0  [Thunder Road, 87Eleven, Summit Entertainment,...    [Chad Stahelski]   \n",
       "1  [Universal Pictures, Original Film, One Race, ...   [Louis Leterrier]   \n",
       "2  [Subzero Film Entertainment, Good Chaos, Stage...  [Jalmari Helander]   \n",
       "\n",
       "                                              actors  score_rating  \n",
       "0  [Keanu Reeves, Donnie Yen, Bill Skarsgård, Ian...       7.19186  \n",
       "1  [Vin Diesel, Michelle Rodriguez, Tyrese Gibson...       6.73136  \n",
       "2  [Jorma Tommila, Aksel Hennie, Jack Doolan, Mim...       6.96886  "
      ]
     },
     "execution_count": 59,
     "metadata": {},
     "output_type": "execute_result"
    }
   ],
   "source": [
    "df.head(3)"
   ]
  },
  {
   "cell_type": "markdown",
   "metadata": {},
   "source": [
    "#### Check null values on each features"
   ]
  },
  {
   "cell_type": "code",
   "execution_count": 60,
   "metadata": {
    "scrolled": true
   },
   "outputs": [
    {
     "data": {
      "text/plain": [
       "title                      0\n",
       "overview                  52\n",
       "runtime                    0\n",
       "tagline                 5018\n",
       "adult                      0\n",
       "genres                     0\n",
       "production_companies       0\n",
       "directors                  0\n",
       "actors                     0\n",
       "score_rating               0\n",
       "dtype: int64"
      ]
     },
     "execution_count": 60,
     "metadata": {},
     "output_type": "execute_result"
    }
   ],
   "source": [
    "df.isnull().sum()"
   ]
  },
  {
   "cell_type": "markdown",
   "metadata": {},
   "source": [
    "#### Process null values"
   ]
  },
  {
   "cell_type": "code",
   "execution_count": 61,
   "metadata": {},
   "outputs": [],
   "source": [
    "# Replace missing 'tagline' and 'overview' with ''\n",
    "df['overview'].fillna('', inplace=True)\n",
    "df['tagline'].fillna('', inplace=True)\n",
    "df.dropna(inplace=True)"
   ]
  },
  {
   "cell_type": "markdown",
   "metadata": {},
   "source": [
    "## EDA"
   ]
  },
  {
   "cell_type": "code",
   "execution_count": 62,
   "metadata": {},
   "outputs": [
    {
     "data": {
      "text/plain": [
       "Text(0.5, 1.0, 'Highest Score Movies')"
      ]
     },
     "execution_count": 62,
     "metadata": {},
     "output_type": "execute_result"
    },
    {
     "data": {
      "image/png": "[encoded data removed]",
      "text/plain": [
       "<Figure size 864x288 with 1 Axes>"
      ]
     },
     "metadata": {
      "needs_background": "light"
     },
     "output_type": "display_data"
    }
   ],
   "source": [
    "score_movie = df.sort_values('score_rating', ascending=False)[:5]\n",
    "\n",
    "plt.figure(figsize=(12,4))\n",
    "plt.barh(score_movie['title'], score_movie['score_rating'], align='center', color=(0.2, 0.4, 0.6))\n",
    "\n",
    "plt.gca().invert_yaxis()\n",
    "plt.xlabel(\"Score\")\n",
    "plt.title(\"Highest Score Movies\")"
   ]
  },
  {
   "cell_type": "markdown",
   "metadata": {},
   "source": [
    "**The movie with the highest score_rating is \"Linkin Park and Friends - Celebrate Life in Hollywood\" with a score_rating of 8.10236. This indicates that it received the highest rating among the movies in the list.**\n",
    "\n",
    "**\"Linkin Park and Friends - Celebrate Life in Hollywood\" is a music-focused movie, but specific details such as the overview, tagline, production companies, directors, and actors are not provided in the dataframe. The movie has a runtime of 180 minutes and is not categorized as an adult film.**\n",
    "\n",
    "**The high score_rating suggests that it was well-received and highly regarded by viewers or critics who rated it. The involvement of Linkin Park and other artists may have contributed to its popularity.**\n",
    "\n",
    "**Please note that the score_rating is subjective and may vary among different viewers. It's always recommended to explore reviews and ratings from multiple sources to get a comprehensive understanding of a movie's quality.**"
   ]
  },
  {
   "cell_type": "code",
   "execution_count": 63,
   "metadata": {},
   "outputs": [
    {
     "data": {
      "text/plain": [
       "Text(0.5, 1.0, 'Lowest Score Movies')"
      ]
     },
     "execution_count": 63,
     "metadata": {},
     "output_type": "execute_result"
    },
    {
     "data": {
      "image/png": "[encoded data removed]",
      "text/plain": [
       "<Figure size 864x288 with 1 Axes>"
      ]
     },
     "metadata": {
      "needs_background": "light"
     },
     "output_type": "display_data"
    }
   ],
   "source": [
    "score_movie = df.sort_values('score_rating', ascending=True)[:5]\n",
    "\n",
    "plt.figure(figsize=(12,4))\n",
    "plt.barh(score_movie['title'], score_movie['score_rating'], align='center', color=(0.5, 0.7, 0.5))\n",
    "\n",
    "plt.gca().invert_yaxis()\n",
    "plt.xlabel(\"Score\")\n",
    "plt.title(\"Lowest Score Movies\")"
   ]
  },
  {
   "cell_type": "markdown",
   "metadata": {},
   "source": [
    "**The movie with the lowest score_rating is \"Grizzly II: Revenge\" with a score_rating of 4.78886. This indicates that it received a relatively low rating compared to the other movies in the list.**\n",
    "\n",
    "**\"Grizzly II: Revenge\" is a horror, music, and thriller film where all hell breaks loose when a giant grizzly seeks revenge. The movie has a runtime of 74 minutes and is directed by André Szöts. It features actors such as Steve Inwood, Deborah Raffin, and John Rhys-Davies.**\n",
    "\n",
    "**It's important to note that the score_rating is subjective and may vary among different viewers. The low rating of \"Grizzly II: Revenge\" suggests that it may not have been well-received by the audience or critics. However, it's always recommended to explore reviews and ratings from multiple sources to get a comprehensive understanding of a movie's quality and make your own judgment.**"
   ]
  },
  {
   "cell_type": "code",
   "execution_count": 64,
   "metadata": {},
   "outputs": [
    {
     "data": {
      "image/png": "[encoded data removed]",
      "text/plain": [
       "<Figure size 720x432 with 1 Axes>"
      ]
     },
     "metadata": {
      "needs_background": "light"
     },
     "output_type": "display_data"
    }
   ],
   "source": [
    "df_genre = df['genres'].apply(pd.Series).stack().reset_index(level=1, drop=True).reset_index(name='genre').drop('index', axis=1)\n",
    "\n",
    "plt.figure(figsize=(10, 6))\n",
    "df_genre.groupby('genre')['genre'].count().sort_values(ascending=False).plot(kind='bar', color=(0.7, 0.2, 0.5))\n",
    "plt.title(\"Genres count\")\n",
    "plt.ylabel('Count')\n",
    "plt.show()"
   ]
  },
  {
   "cell_type": "markdown",
   "metadata": {},
   "source": [
    "**Drama is the most common genre, with 4822 movies falling under this category. Drama films typically focus on emotional themes and character development, making them a popular choice among filmmakers and audiences.**\n",
    "\n",
    "**Comedy is the second most prevalent genre, with 3021 movies. Comedy films aim to entertain and make the audience laugh, offering light-hearted and humorous storytelling.**\n",
    "\n",
    "**Thriller is the third most common genre, with 2920 movies. Thrillers typically involve suspense, tension, and excitement, keeping the audience engaged with unpredictable plot twists and intense storytelling.**\n",
    "\n",
    "**Action and Romance genres follow closely with 2765 and 2024 movies, respectively. Action movies offer thrilling sequences, stunts, and often involve conflicts or battles. Romance films revolve around love and relationships, appealing to audiences seeking emotional connections and heartwarming narratives.**\n",
    "\n",
    "**Adventure, Horror, Family, and Animation genres also have a significant presence, each with over 1500 movies. Adventure films often involve exciting journeys and exploration. Horror movies aim to evoke fear and suspense, while family and animation genres cater to younger audiences and offer wholesome, engaging content.**\n",
    "\n",
    "**Documentary and TV Movie genres have relatively high counts as well, with 1594 and 1517 movies, respectively. Documentaries provide factual and informative content, while TV movies are made for television broadcasts and cover a wide range of genres and topics.**\n",
    "\n",
    "**Crime, Fantasy, Mystery, Science Fiction, History, Music, War, and Western genres have varying levels of representation, each with several hundred movies.**\n",
    "\n",
    "**Overall, the conclusions from this genre distribution indicate that there is a diverse range of movie genres available, catering to different tastes and preferences of audiences. Drama, Comedy, Thriller, Action, and Romance remain popular choices, while genres like Documentary, Family, and Animation also have significant followings.**"
   ]
  },
  {
   "cell_type": "code",
   "execution_count": 65,
   "metadata": {},
   "outputs": [
    {
     "data": {
      "image/png": "[encoded data removed]",
      "text/plain": [
       "<Figure size 432x720 with 1 Axes>"
      ]
     },
     "metadata": {
      "needs_background": "light"
     },
     "output_type": "display_data"
    }
   ],
   "source": [
    "df_prod = df['directors'].apply(len).reset_index(name='prod').drop('index', axis=1)\n",
    "\n",
    "plt.figure(figsize=(6, 10))\n",
    "df_prod.groupby('prod')['prod'].count().sort_values(ascending=False)[:2].plot(kind='barh', color=(0.2, 0.2, 0.5))\n",
    "plt.title(\"Executive producers\")\n",
    "plt.ylabel('Number of Producers')\n",
    "plt.xlabel('Movies')\n",
    "plt.show()"
   ]
  },
  {
   "cell_type": "markdown",
   "metadata": {},
   "source": [
    "**The majority of movies in the dataset are directed by a single director, accounting for 11,703 instances. This suggests that solo directorship is the most common approach in filmmaking. However, there are also 1,006 movies that involve multiple directors, indicating that collaborative directorial efforts are present but less prevalent in the dataset.**"
   ]
  },
  {
   "cell_type": "code",
   "execution_count": 66,
   "metadata": {},
   "outputs": [
    {
     "data": {
      "image/png": "[encoded data removed]",
      "text/plain": [
       "<Figure size 432x576 with 1 Axes>"
      ]
     },
     "metadata": {
      "needs_background": "light"
     },
     "output_type": "display_data"
    }
   ],
   "source": [
    "df_company = df['production_companies'].apply(len).reset_index(name='company').drop('index', axis=1)\n",
    "\n",
    "plt.figure(figsize=(6, 8))\n",
    "df_company.groupby('company')['company'].count().sort_values(ascending=True).plot(kind='barh', color='orange')\n",
    "plt.title(\"Production company count\")\n",
    "plt.xlabel('Count')\n",
    "plt.show()"
   ]
  },
  {
   "cell_type": "markdown",
   "metadata": {},
   "source": [
    "**The majority of movies in the dataset are produced by either two production companies or a single production company, with 2,885 and 2,875 instances respectively. This suggests that movies commonly involve collaborations between two companies or are produced by a single company. However, there are also movies that involve a higher number of production companies, with the count gradually decreasing as the number of companies involved increases.**"
   ]
  },
  {
   "cell_type": "markdown",
   "metadata": {},
   "source": [
    "## Machine learning and Deep learning"
   ]
  },
  {
   "cell_type": "markdown",
   "metadata": {},
   "source": [
    "#### Encode object column"
   ]
  },
  {
   "cell_type": "code",
   "execution_count": 67,
   "metadata": {},
   "outputs": [],
   "source": [
    "# Initialize LabelEncoder\n",
    "le = LabelEncoder()\n",
    "\n",
    "# Fit and transform 'adult' column\n",
    "df['adult'] = le.fit_transform(df['adult'])"
   ]
  },
  {
   "cell_type": "markdown",
   "metadata": {},
   "source": [
    "#### Processing text feature"
   ]
  },
  {
   "cell_type": "code",
   "execution_count": 68,
   "metadata": {},
   "outputs": [],
   "source": [
    "def process_text_list(list_value):\n",
    "    return ' '.join(list_value)"
   ]
  },
  {
   "cell_type": "code",
   "execution_count": 69,
   "metadata": {},
   "outputs": [],
   "source": [
    "df['genres'] = df['genres'].apply(process_text_list)\n",
    "df['production_companies'] = df['production_companies'].apply(process_text_list)\n",
    "df['directors'] = df['directors'].apply(process_text_list)\n",
    "df['actors'] = df['actors'].apply(process_text_list)"
   ]
  },
  {
   "cell_type": "code",
   "execution_count": 22,
   "metadata": {},
   "outputs": [],
   "source": [
    "stop_words = set(stopwords.words('english'))\n",
    "st = SnowballStemmer('english')"
   ]
  },
  {
   "cell_type": "code",
   "execution_count": 23,
   "metadata": {},
   "outputs": [],
   "source": [
    "def clean_text_data(df_in, col):\n",
    "    # change to lower and remove spaces on either side\n",
    "    df_in[col] = df_in[col].apply(lambda x: x.lower().strip())\n",
    "    # remove extra spaces in between\n",
    "    df_in[col] = df_in[col].apply(lambda x: re.sub(' +', ' ', x))\n",
    "    # remove punctuation\n",
    "    df_in[col] = df_in[col].apply(lambda x: re.sub('[^a-zA-Z]', ' ', x))\n",
    "    # remove stopwords and get the stem\n",
    "    df_in[col] = df_in[col].apply(lambda x: ' '.join(st.stem(text) for text in x.split() if text not in stop_words))\n",
    "    return df_in[col]"
   ]
  },
  {
   "cell_type": "code",
   "execution_count": 24,
   "metadata": {},
   "outputs": [],
   "source": [
    "df['overview'] = df['overview'].astype(str)"
   ]
  },
  {
   "cell_type": "code",
   "execution_count": 25,
   "metadata": {},
   "outputs": [],
   "source": [
    "df['overview'] = clean_text_data(df, 'overview')\n",
    "df['genres'] = clean_text_data(df, 'genres')\n",
    "df['production_companies'] = clean_text_data(df, 'production_companies')\n",
    "df['directors'] = clean_text_data(df, 'directors')\n",
    "df['actors'] = clean_text_data(df, 'actors')"
   ]
  },
  {
   "cell_type": "code",
   "execution_count": 26,
   "metadata": {},
   "outputs": [],
   "source": [
    "def create_soup(x):\n",
    "    return x['title'] + ' ' + x['overview'] + ' ' + x['tagline'] + ' ' + x['genres'] + ' ' + x['production_companies'] + ' ' + x['directors'] + ' ' + x['actors']"
   ]
  },
  {
   "cell_type": "code",
   "execution_count": 27,
   "metadata": {},
   "outputs": [],
   "source": [
    "df['soup'] = df.apply(create_soup, axis=1)\n",
    "\n",
    "df = df.drop(columns=['title', 'overview', 'tagline', 'genres', 'production_companies', 'directors', 'actors'])"
   ]
  },
  {
   "cell_type": "markdown",
   "metadata": {},
   "source": [
    "#### Normalization"
   ]
  },
  {
   "cell_type": "code",
   "execution_count": 28,
   "metadata": {},
   "outputs": [],
   "source": [
    "scaler = StandardScaler()\n",
    "df['runtime'] = scaler.fit_transform(np.array(df['runtime']).reshape(-1, 1))"
   ]
  },
  {
   "cell_type": "code",
   "execution_count": 29,
   "metadata": {},
   "outputs": [],
   "source": [
    "df = df.reset_index(drop=True)"
   ]
  },
  {
   "cell_type": "markdown",
   "metadata": {},
   "source": [
    "#### Embedding text features"
   ]
  },
  {
   "cell_type": "code",
   "execution_count": 30,
   "metadata": {},
   "outputs": [
    {
     "data": {
      "application/vnd.jupyter.widget-view+json": {
       "model_id": "2401e6c9c1f942af977479fd604ec842",
       "version_major": 2,
       "version_minor": 0
      },
      "text/plain": [
       "Batches:   0%|          | 0/26 [00:00<?, ?it/s]"
      ]
     },
     "metadata": {},
     "output_type": "display_data"
    }
   ],
   "source": [
    "from sentence_transformers import SentenceTransformer\n",
    "embedding_model = SentenceTransformer('paraphrase-MiniLM-L3-v2')\n",
    "\n",
    "# encode all sentences\n",
    "embeddings = embedding_model.encode(df['soup'], batch_size=512, show_progress_bar=True)"
   ]
  },
  {
   "cell_type": "code",
   "execution_count": 31,
   "metadata": {},
   "outputs": [],
   "source": [
    "df_text = pd.DataFrame(embeddings)\n",
    "df = pd.concat([df, df_text], axis=1)"
   ]
  },
  {
   "cell_type": "code",
   "execution_count": 32,
   "metadata": {},
   "outputs": [],
   "source": [
    "df = df.drop(['runtime', 'soup', 'adult'], axis=1) #only keep text data"
   ]
  },
  {
   "cell_type": "code",
   "execution_count": 33,
   "metadata": {},
   "outputs": [
    {
     "data": {
      "text/html": [
       "<div>\n",
       "<style scoped>\n",
       "    .dataframe tbody tr th:only-of-type {\n",
       "        vertical-align: middle;\n",
       "    }\n",
       "\n",
       "    .dataframe tbody tr th {\n",
       "        vertical-align: top;\n",
       "    }\n",
       "\n",
       "    .dataframe thead th {\n",
       "        text-align: right;\n",
       "    }\n",
       "</style>\n",
       "<table border=\"1\" class=\"dataframe\">\n",
       "  <thead>\n",
       "    <tr style=\"text-align: right;\">\n",
       "      <th></th>\n",
       "      <th>score_rating</th>\n",
       "      <th>0</th>\n",
       "      <th>1</th>\n",
       "      <th>2</th>\n",
       "      <th>3</th>\n",
       "      <th>4</th>\n",
       "      <th>5</th>\n",
       "      <th>6</th>\n",
       "      <th>7</th>\n",
       "      <th>8</th>\n",
       "      <th>...</th>\n",
       "      <th>374</th>\n",
       "      <th>375</th>\n",
       "      <th>376</th>\n",
       "      <th>377</th>\n",
       "      <th>378</th>\n",
       "      <th>379</th>\n",
       "      <th>380</th>\n",
       "      <th>381</th>\n",
       "      <th>382</th>\n",
       "      <th>383</th>\n",
       "    </tr>\n",
       "  </thead>\n",
       "  <tbody>\n",
       "    <tr>\n",
       "      <th>0</th>\n",
       "      <td>7.19186</td>\n",
       "      <td>0.049993</td>\n",
       "      <td>-0.008717</td>\n",
       "      <td>0.024690</td>\n",
       "      <td>0.008969</td>\n",
       "      <td>0.063074</td>\n",
       "      <td>-0.077994</td>\n",
       "      <td>0.223947</td>\n",
       "      <td>-0.043536</td>\n",
       "      <td>0.122065</td>\n",
       "      <td>...</td>\n",
       "      <td>-0.094407</td>\n",
       "      <td>0.304338</td>\n",
       "      <td>-0.118443</td>\n",
       "      <td>-0.053338</td>\n",
       "      <td>-0.083642</td>\n",
       "      <td>-0.146300</td>\n",
       "      <td>-0.028733</td>\n",
       "      <td>-0.235244</td>\n",
       "      <td>-0.041871</td>\n",
       "      <td>-0.171734</td>\n",
       "    </tr>\n",
       "    <tr>\n",
       "      <th>1</th>\n",
       "      <td>6.73136</td>\n",
       "      <td>-0.151657</td>\n",
       "      <td>0.139662</td>\n",
       "      <td>-0.024836</td>\n",
       "      <td>0.007468</td>\n",
       "      <td>0.135099</td>\n",
       "      <td>-0.106904</td>\n",
       "      <td>0.116109</td>\n",
       "      <td>0.110023</td>\n",
       "      <td>0.113366</td>\n",
       "      <td>...</td>\n",
       "      <td>0.033366</td>\n",
       "      <td>0.079112</td>\n",
       "      <td>-0.059080</td>\n",
       "      <td>-0.542577</td>\n",
       "      <td>0.023766</td>\n",
       "      <td>0.080396</td>\n",
       "      <td>0.226773</td>\n",
       "      <td>0.050518</td>\n",
       "      <td>0.147551</td>\n",
       "      <td>0.087656</td>\n",
       "    </tr>\n",
       "    <tr>\n",
       "      <th>2</th>\n",
       "      <td>6.96886</td>\n",
       "      <td>0.091568</td>\n",
       "      <td>-0.034332</td>\n",
       "      <td>0.179383</td>\n",
       "      <td>0.026452</td>\n",
       "      <td>-0.146983</td>\n",
       "      <td>-0.174554</td>\n",
       "      <td>0.335386</td>\n",
       "      <td>0.123930</td>\n",
       "      <td>0.198424</td>\n",
       "      <td>...</td>\n",
       "      <td>0.186103</td>\n",
       "      <td>0.055713</td>\n",
       "      <td>-0.227691</td>\n",
       "      <td>-0.233185</td>\n",
       "      <td>0.218381</td>\n",
       "      <td>0.151435</td>\n",
       "      <td>0.140904</td>\n",
       "      <td>0.095704</td>\n",
       "      <td>-0.006612</td>\n",
       "      <td>0.102342</td>\n",
       "    </tr>\n",
       "  </tbody>\n",
       "</table>\n",
       "<p>3 rows × 385 columns</p>\n",
       "</div>"
      ],
      "text/plain": [
       "   score_rating         0         1         2         3         4         5  \\\n",
       "0       7.19186  0.049993 -0.008717  0.024690  0.008969  0.063074 -0.077994   \n",
       "1       6.73136 -0.151657  0.139662 -0.024836  0.007468  0.135099 -0.106904   \n",
       "2       6.96886  0.091568 -0.034332  0.179383  0.026452 -0.146983 -0.174554   \n",
       "\n",
       "          6         7         8  ...       374       375       376       377  \\\n",
       "0  0.223947 -0.043536  0.122065  ... -0.094407  0.304338 -0.118443 -0.053338   \n",
       "1  0.116109  0.110023  0.113366  ...  0.033366  0.079112 -0.059080 -0.542577   \n",
       "2  0.335386  0.123930  0.198424  ...  0.186103  0.055713 -0.227691 -0.233185   \n",
       "\n",
       "        378       379       380       381       382       383  \n",
       "0 -0.083642 -0.146300 -0.028733 -0.235244 -0.041871 -0.171734  \n",
       "1  0.023766  0.080396  0.226773  0.050518  0.147551  0.087656  \n",
       "2  0.218381  0.151435  0.140904  0.095704 -0.006612  0.102342  \n",
       "\n",
       "[3 rows x 385 columns]"
      ]
     },
     "execution_count": 33,
     "metadata": {},
     "output_type": "execute_result"
    }
   ],
   "source": [
    "df.head(3)"
   ]
  },
  {
   "cell_type": "markdown",
   "metadata": {},
   "source": [
    "#### Split data to train and test"
   ]
  },
  {
   "cell_type": "code",
   "execution_count": 34,
   "metadata": {},
   "outputs": [],
   "source": [
    "# divide the data into (X) and (y)\n",
    "X = df.drop('score_rating', axis=1)\n",
    "y = df['score_rating']"
   ]
  },
  {
   "cell_type": "code",
   "execution_count": 35,
   "metadata": {},
   "outputs": [],
   "source": [
    "# Splitting the data\n",
    "X_train, X_test, y_train, y_test = train_test_split(X, y, test_size=0.2, random_state=42)"
   ]
  },
  {
   "cell_type": "markdown",
   "metadata": {},
   "source": [
    "## Machine learning"
   ]
  },
  {
   "cell_type": "markdown",
   "metadata": {},
   "source": [
    "#### Gridsearch Best parameters"
   ]
  },
  {
   "cell_type": "code",
   "execution_count": 37,
   "metadata": {},
   "outputs": [
    {
     "data": {
      "text/plain": [
       "GridSearchCV(estimator=SVR(),\n",
       "             param_grid={'C': [1, 3, 5], 'kernel': ('linear', 'rbf')})"
      ]
     },
     "execution_count": 37,
     "metadata": {},
     "output_type": "execute_result"
    }
   ],
   "source": [
    "parameters_rf = {'max_depth':[1, 3, 5], 'n_estimators':[100, 150, 200]}\n",
    "rf_grid = GridSearchCV(RandomForestRegressor(), parameters_rf)\n",
    "rf_grid.fit(X_train, y_train)\n",
    "\n",
    "parameters_svm = {'kernel':('linear', 'rbf'), 'C':[1, 3, 5]}\n",
    "svm_grid = GridSearchCV(SVR(), parameters_svm)\n",
    "svm_grid.fit(X_train, y_train)"
   ]
  },
  {
   "cell_type": "code",
   "execution_count": 38,
   "metadata": {},
   "outputs": [
    {
     "name": "stdout",
     "output_type": "stream",
     "text": [
      "Best parameters of Random Forest: {'max_depth': 5, 'n_estimators': 150}\n",
      "Best parameters of SVM: {'C': 1, 'kernel': 'rbf'}\n"
     ]
    }
   ],
   "source": [
    "print(\"Best parameters of Random Forest:\", rf_grid.best_params_)\n",
    "print(\"Best parameters of SVM:\", svm_grid.best_params_)"
   ]
  },
  {
   "cell_type": "markdown",
   "metadata": {},
   "source": [
    "#### Train model with best parameters"
   ]
  },
  {
   "cell_type": "code",
   "execution_count": 36,
   "metadata": {},
   "outputs": [
    {
     "data": {
      "text/plain": [
       "SVR(C=1)"
      ]
     },
     "execution_count": 36,
     "metadata": {},
     "output_type": "execute_result"
    }
   ],
   "source": [
    "rf = RandomForestRegressor(n_estimators=150, max_depth=5)\n",
    "rf.fit(X_train, y_train)\n",
    "\n",
    "svm = SVR(C=1, kernel='rbf')\n",
    "svm.fit(X_train, y_train)"
   ]
  },
  {
   "cell_type": "code",
   "execution_count": 37,
   "metadata": {},
   "outputs": [],
   "source": [
    "svm_pred = svm.predict(X_test)\n",
    "rf_pred = rf.predict(X_test)"
   ]
  },
  {
   "cell_type": "markdown",
   "metadata": {},
   "source": [
    "#### Evaluation"
   ]
  },
  {
   "cell_type": "code",
   "execution_count": 38,
   "metadata": {},
   "outputs": [
    {
     "name": "stdout",
     "output_type": "stream",
     "text": [
      "MAE score of SVM:  0.3290265606584648\n",
      "MAE score of Random Forest:  0.35444844266245107\n",
      "----------------------------------------------------------------------------------------------------\n",
      "MSE score of SVM:  0.18420446060620616\n",
      "MSE score of Random Forest:  0.20574447391738354\n"
     ]
    }
   ],
   "source": [
    "print(\"MAE score of SVM: \", mean_absolute_error(y_test, svm_pred,))\n",
    "print(\"MAE score of Random Forest: \", mean_absolute_error(y_test, rf_pred))\n",
    "print('-' * 100)\n",
    "print(\"MSE score of SVM: \", mean_squared_error(y_test, svm_pred))\n",
    "print(\"MSE score of Random Forest: \", mean_squared_error(y_test, rf_pred))"
   ]
  },
  {
   "cell_type": "markdown",
   "metadata": {},
   "source": [
    "**Based on the Mean Absolute Error (MAE) scores, the SVM model outperforms the Random Forest model with a lower value of 0.329 compared to 0.354. Similarly, in terms of Mean Squared Error (MSE) scores, the SVM model performs better with a lower value of 0.184 compared to 0.206 for the Random Forest model. Therefore, the SVM model shows better accuracy in predicting the target variable compared to the Random Forest model.**"
   ]
  },
  {
   "cell_type": "markdown",
   "metadata": {},
   "source": [
    "## Deep learning"
   ]
  },
  {
   "cell_type": "code",
   "execution_count": 39,
   "metadata": {},
   "outputs": [],
   "source": [
    "from tensorflow import keras\n",
    "import tensorflow as tf\n",
    "from tensorflow.keras.models import Sequential\n",
    "from tensorflow.keras.layers import Dense, Activation, BatchNormalization, Dropout"
   ]
  },
  {
   "cell_type": "markdown",
   "metadata": {},
   "source": [
    "### Model"
   ]
  },
  {
   "cell_type": "code",
   "execution_count": 40,
   "metadata": {},
   "outputs": [],
   "source": [
    "model_ann = Sequential()\n",
    "model_ann.add(Dense(512, input_dim=X_train.shape[1]))\n",
    "model_ann.add(Activation('relu'))\n",
    "model_ann.add(Dense(128))\n",
    "model_ann.add(Activation('relu'))\n",
    "model_ann.add(Dense(128))\n",
    "model_ann.add(Activation('relu'))\n",
    "model_ann.add(Dense(64))\n",
    "model_ann.add(Activation('relu'))\n",
    "model_ann.add(Dropout(0.3))\n",
    "model_ann.add(Dense(1))"
   ]
  },
  {
   "cell_type": "markdown",
   "metadata": {},
   "source": [
    "This model is a sequential neural network with multiple hidden layers consisting of dense (fully connected) layers. It uses the ReLU activation function to introduce non-linearity and dropout regularization to prevent overfitting. The final layer is a single neuron without an activation function, indicating a regression task."
   ]
  },
  {
   "cell_type": "markdown",
   "metadata": {},
   "source": [
    "### Optimizer"
   ]
  },
  {
   "cell_type": "code",
   "execution_count": 41,
   "metadata": {},
   "outputs": [],
   "source": [
    "opt = keras.optimizers.Adam(learning_rate=0.001)\n",
    "model_ann.compile(loss=\"mse\", optimizer=opt)"
   ]
  },
  {
   "cell_type": "markdown",
   "metadata": {},
   "source": [
    "This model is compiled with the mean squared error (MSE) loss function, indicating a regression task. It uses the Adam optimizer with a learning rate of 0.001, which is a popular choice for gradient-based optimization. The combination of MSE loss and Adam optimizer suggests that the model aims to minimize the mean squared error between the predicted and actual values during training."
   ]
  },
  {
   "cell_type": "markdown",
   "metadata": {},
   "source": [
    "### Training"
   ]
  },
  {
   "cell_type": "code",
   "execution_count": 42,
   "metadata": {},
   "outputs": [
    {
     "name": "stdout",
     "output_type": "stream",
     "text": [
      "Epoch 1/500\n",
      "21/21 [==============================] - 1s 13ms/step - loss: 16.1803 - val_loss: 3.4223\n",
      "Epoch 2/500\n",
      "21/21 [==============================] - 0s 6ms/step - loss: 2.6649 - val_loss: 1.1957\n",
      "Epoch 3/500\n",
      "21/21 [==============================] - 0s 6ms/step - loss: 1.7564 - val_loss: 0.5097\n",
      "Epoch 4/500\n",
      "21/21 [==============================] - 0s 6ms/step - loss: 1.5128 - val_loss: 0.4298\n",
      "Epoch 5/500\n",
      "21/21 [==============================] - 0s 6ms/step - loss: 1.3219 - val_loss: 0.3628\n",
      "Epoch 6/500\n",
      "21/21 [==============================] - 0s 6ms/step - loss: 1.2249 - val_loss: 0.3316\n",
      "Epoch 7/500\n",
      "21/21 [==============================] - 0s 6ms/step - loss: 1.1185 - val_loss: 0.3203\n",
      "Epoch 8/500\n",
      "21/21 [==============================] - 0s 7ms/step - loss: 1.0544 - val_loss: 0.3200\n",
      "Epoch 9/500\n",
      "21/21 [==============================] - 0s 7ms/step - loss: 0.9945 - val_loss: 0.3053\n",
      "Epoch 10/500\n",
      "21/21 [==============================] - 0s 7ms/step - loss: 0.9774 - val_loss: 0.3296\n",
      "Epoch 11/500\n",
      "21/21 [==============================] - 0s 7ms/step - loss: 0.9519 - val_loss: 0.2857\n",
      "Epoch 12/500\n",
      "21/21 [==============================] - 0s 6ms/step - loss: 0.9325 - val_loss: 0.3257\n",
      "Epoch 13/500\n",
      "21/21 [==============================] - 0s 6ms/step - loss: 0.9138 - val_loss: 0.2856\n",
      "Epoch 14/500\n",
      "21/21 [==============================] - 0s 6ms/step - loss: 0.9220 - val_loss: 0.3155\n",
      "Epoch 15/500\n",
      "21/21 [==============================] - 0s 6ms/step - loss: 0.9273 - val_loss: 0.2766\n",
      "Epoch 16/500\n",
      "21/21 [==============================] - 0s 6ms/step - loss: 0.9088 - val_loss: 0.2940\n",
      "Epoch 17/500\n",
      "21/21 [==============================] - 0s 6ms/step - loss: 0.9352 - val_loss: 0.2858\n",
      "Epoch 18/500\n",
      "21/21 [==============================] - 0s 6ms/step - loss: 0.8990 - val_loss: 0.2691\n",
      "Epoch 19/500\n",
      "21/21 [==============================] - 0s 6ms/step - loss: 0.8994 - val_loss: 0.3069\n",
      "Epoch 20/500\n",
      "21/21 [==============================] - 0s 6ms/step - loss: 0.8644 - val_loss: 0.2926\n",
      "Epoch 21/500\n",
      "21/21 [==============================] - 0s 6ms/step - loss: 0.8912 - val_loss: 0.3162\n",
      "Epoch 22/500\n",
      "21/21 [==============================] - 0s 6ms/step - loss: 0.8719 - val_loss: 0.2860\n",
      "Epoch 23/500\n",
      "21/21 [==============================] - 0s 7ms/step - loss: 0.8584 - val_loss: 0.3116\n",
      "Epoch 24/500\n",
      "21/21 [==============================] - 0s 7ms/step - loss: 0.8877 - val_loss: 0.2964\n",
      "Epoch 25/500\n",
      "21/21 [==============================] - 0s 7ms/step - loss: 0.8933 - val_loss: 0.2709\n",
      "Epoch 26/500\n",
      "21/21 [==============================] - 0s 7ms/step - loss: 0.8730 - val_loss: 0.2726\n",
      "Epoch 27/500\n",
      "21/21 [==============================] - 0s 7ms/step - loss: 0.8528 - val_loss: 0.2785\n",
      "Epoch 28/500\n",
      "21/21 [==============================] - 0s 7ms/step - loss: 0.8569 - val_loss: 0.3038\n",
      "Epoch 29/500\n",
      "21/21 [==============================] - 0s 7ms/step - loss: 0.8295 - val_loss: 0.2823\n",
      "Epoch 30/500\n",
      "21/21 [==============================] - 0s 7ms/step - loss: 0.8437 - val_loss: 0.2685\n",
      "Epoch 31/500\n",
      "21/21 [==============================] - 0s 7ms/step - loss: 0.8435 - val_loss: 0.2737\n",
      "Epoch 32/500\n",
      "21/21 [==============================] - 0s 7ms/step - loss: 0.8312 - val_loss: 0.2824\n",
      "Epoch 33/500\n",
      "21/21 [==============================] - 0s 7ms/step - loss: 0.8375 - val_loss: 0.2802\n",
      "Epoch 34/500\n",
      "21/21 [==============================] - 0s 7ms/step - loss: 0.8285 - val_loss: 0.2824\n",
      "Epoch 35/500\n",
      "21/21 [==============================] - 0s 7ms/step - loss: 0.8468 - val_loss: 0.2914\n",
      "Epoch 36/500\n",
      "21/21 [==============================] - 0s 7ms/step - loss: 0.8369 - val_loss: 0.2810\n",
      "Epoch 37/500\n",
      "21/21 [==============================] - 0s 7ms/step - loss: 0.8320 - val_loss: 0.2694\n",
      "Epoch 38/500\n",
      "21/21 [==============================] - 0s 7ms/step - loss: 0.8087 - val_loss: 0.2779\n",
      "Epoch 39/500\n",
      "21/21 [==============================] - 0s 9ms/step - loss: 0.8192 - val_loss: 0.2688\n",
      "Epoch 40/500\n",
      "21/21 [==============================] - 0s 9ms/step - loss: 0.8453 - val_loss: 0.2760\n",
      "Epoch 41/500\n",
      "21/21 [==============================] - 0s 8ms/step - loss: 0.8291 - val_loss: 0.2693\n",
      "Epoch 42/500\n",
      "21/21 [==============================] - 0s 9ms/step - loss: 0.8124 - val_loss: 0.2847\n",
      "Epoch 43/500\n",
      "21/21 [==============================] - 0s 9ms/step - loss: 0.8064 - val_loss: 0.2897\n",
      "Epoch 44/500\n",
      "21/21 [==============================] - 0s 9ms/step - loss: 0.8163 - val_loss: 0.2823\n",
      "Epoch 45/500\n",
      "21/21 [==============================] - 0s 14ms/step - loss: 0.8006 - val_loss: 0.2815\n",
      "Epoch 46/500\n",
      "21/21 [==============================] - 0s 9ms/step - loss: 0.7732 - val_loss: 0.3096\n",
      "Epoch 47/500\n",
      "21/21 [==============================] - 0s 9ms/step - loss: 0.8129 - val_loss: 0.2874\n",
      "Epoch 48/500\n",
      "21/21 [==============================] - 0s 9ms/step - loss: 0.7901 - val_loss: 0.2819\n",
      "Epoch 49/500\n",
      "21/21 [==============================] - 0s 8ms/step - loss: 0.7991 - val_loss: 0.2699\n",
      "Epoch 50/500\n",
      "21/21 [==============================] - 0s 8ms/step - loss: 0.7807 - val_loss: 0.2793\n",
      "Epoch 51/500\n",
      "21/21 [==============================] - 0s 8ms/step - loss: 0.7884 - val_loss: 0.2784\n",
      "Epoch 52/500\n",
      "21/21 [==============================] - 0s 7ms/step - loss: 0.8037 - val_loss: 0.3560\n",
      "Epoch 53/500\n",
      "21/21 [==============================] - 0s 7ms/step - loss: 0.7865 - val_loss: 0.3140\n",
      "Epoch 54/500\n",
      "21/21 [==============================] - 0s 8ms/step - loss: 0.7904 - val_loss: 0.2980\n",
      "Epoch 55/500\n",
      "21/21 [==============================] - 0s 7ms/step - loss: 0.7915 - val_loss: 0.2952\n",
      "Epoch 56/500\n",
      "21/21 [==============================] - 0s 7ms/step - loss: 0.7753 - val_loss: 0.2776\n",
      "Epoch 57/500\n",
      "21/21 [==============================] - 0s 7ms/step - loss: 0.8014 - val_loss: 0.2769\n",
      "Epoch 58/500\n",
      "21/21 [==============================] - 0s 7ms/step - loss: 0.8012 - val_loss: 0.3272\n",
      "Epoch 59/500\n",
      "21/21 [==============================] - 0s 7ms/step - loss: 0.7686 - val_loss: 0.2897\n",
      "Epoch 60/500\n",
      "21/21 [==============================] - 0s 8ms/step - loss: 0.7900 - val_loss: 0.2780\n",
      "Epoch 61/500\n",
      "21/21 [==============================] - 0s 8ms/step - loss: 0.7749 - val_loss: 0.2754\n",
      "Epoch 62/500\n",
      "21/21 [==============================] - 0s 7ms/step - loss: 0.7767 - val_loss: 0.2887\n",
      "Epoch 63/500\n",
      "21/21 [==============================] - 0s 8ms/step - loss: 0.7892 - val_loss: 0.3192\n",
      "Epoch 64/500\n",
      "21/21 [==============================] - 0s 8ms/step - loss: 0.7658 - val_loss: 0.3326\n",
      "Epoch 65/500\n",
      "21/21 [==============================] - 0s 8ms/step - loss: 0.7419 - val_loss: 0.2876\n",
      "Epoch 66/500\n",
      "21/21 [==============================] - 0s 8ms/step - loss: 0.7535 - val_loss: 0.2836\n",
      "Epoch 67/500\n",
      "21/21 [==============================] - 0s 9ms/step - loss: 0.7465 - val_loss: 0.2809\n",
      "Epoch 68/500\n",
      "21/21 [==============================] - 0s 8ms/step - loss: 0.7382 - val_loss: 0.2805\n",
      "Epoch 69/500\n",
      "21/21 [==============================] - 0s 8ms/step - loss: 0.7367 - val_loss: 0.2845\n",
      "Epoch 70/500\n",
      "21/21 [==============================] - 0s 7ms/step - loss: 0.7500 - val_loss: 0.3255\n",
      "Epoch 71/500\n",
      "21/21 [==============================] - 0s 7ms/step - loss: 0.7378 - val_loss: 0.2852\n",
      "Epoch 72/500\n",
      "21/21 [==============================] - 0s 7ms/step - loss: 0.7428 - val_loss: 0.2919\n",
      "Epoch 73/500\n",
      "21/21 [==============================] - 0s 7ms/step - loss: 0.7312 - val_loss: 0.2954\n",
      "Epoch 74/500\n",
      "21/21 [==============================] - 0s 8ms/step - loss: 0.7347 - val_loss: 0.2923\n",
      "Epoch 75/500\n",
      "21/21 [==============================] - 0s 8ms/step - loss: 0.7484 - val_loss: 0.2939\n",
      "Epoch 76/500\n",
      "21/21 [==============================] - 0s 9ms/step - loss: 0.7158 - val_loss: 0.3005\n",
      "Epoch 77/500\n",
      "21/21 [==============================] - 0s 7ms/step - loss: 0.7573 - val_loss: 0.3069\n",
      "Epoch 78/500\n",
      "21/21 [==============================] - 0s 8ms/step - loss: 0.7231 - val_loss: 0.2957\n",
      "Epoch 79/500\n",
      "21/21 [==============================] - 0s 7ms/step - loss: 0.7342 - val_loss: 0.2950\n",
      "Epoch 80/500\n",
      "21/21 [==============================] - 0s 8ms/step - loss: 0.7190 - val_loss: 0.3123\n",
      "Epoch 81/500\n",
      "21/21 [==============================] - 0s 8ms/step - loss: 0.7107 - val_loss: 0.2932\n",
      "Epoch 82/500\n",
      "21/21 [==============================] - 0s 9ms/step - loss: 0.7255 - val_loss: 0.2834\n"
     ]
    },
    {
     "name": "stdout",
     "output_type": "stream",
     "text": [
      "Epoch 83/500\n",
      "21/21 [==============================] - 0s 9ms/step - loss: 0.7249 - val_loss: 0.5064\n",
      "Epoch 84/500\n",
      "21/21 [==============================] - 0s 9ms/step - loss: 0.7457 - val_loss: 0.2855\n",
      "Epoch 85/500\n",
      "21/21 [==============================] - 0s 9ms/step - loss: 0.7064 - val_loss: 0.2801\n",
      "Epoch 86/500\n",
      "21/21 [==============================] - 0s 9ms/step - loss: 0.7220 - val_loss: 0.2844\n",
      "Epoch 87/500\n",
      "21/21 [==============================] - 0s 9ms/step - loss: 0.7019 - val_loss: 0.2843\n",
      "Epoch 88/500\n",
      "21/21 [==============================] - 0s 8ms/step - loss: 0.6978 - val_loss: 0.4265\n",
      "Epoch 89/500\n",
      "21/21 [==============================] - 0s 8ms/step - loss: 0.7365 - val_loss: 0.3176\n",
      "Epoch 90/500\n",
      "21/21 [==============================] - 0s 8ms/step - loss: 0.7163 - val_loss: 0.3131\n",
      "Epoch 91/500\n",
      "21/21 [==============================] - 0s 7ms/step - loss: 0.6918 - val_loss: 0.2896\n",
      "Epoch 92/500\n",
      "21/21 [==============================] - 0s 7ms/step - loss: 0.7060 - val_loss: 0.2795\n",
      "Epoch 93/500\n",
      "21/21 [==============================] - 0s 7ms/step - loss: 0.7126 - val_loss: 0.2850\n",
      "Epoch 94/500\n",
      "21/21 [==============================] - 0s 7ms/step - loss: 0.6802 - val_loss: 0.2945\n",
      "Epoch 95/500\n",
      "21/21 [==============================] - 0s 7ms/step - loss: 0.6948 - val_loss: 0.2767\n",
      "Epoch 96/500\n",
      "21/21 [==============================] - 0s 7ms/step - loss: 0.6709 - val_loss: 0.2985\n",
      "Epoch 97/500\n",
      "21/21 [==============================] - 0s 7ms/step - loss: 0.6912 - val_loss: 0.3332\n",
      "Epoch 98/500\n",
      "21/21 [==============================] - 0s 7ms/step - loss: 0.6736 - val_loss: 0.2934\n",
      "Epoch 99/500\n",
      "21/21 [==============================] - 0s 7ms/step - loss: 0.6692 - val_loss: 0.2869\n",
      "Epoch 100/500\n",
      "21/21 [==============================] - 0s 7ms/step - loss: 0.6759 - val_loss: 0.2865\n",
      "Epoch 101/500\n",
      "21/21 [==============================] - 0s 7ms/step - loss: 0.6763 - val_loss: 0.3476\n",
      "Epoch 102/500\n",
      "21/21 [==============================] - 0s 8ms/step - loss: 0.6709 - val_loss: 0.2838\n",
      "Epoch 103/500\n",
      "21/21 [==============================] - 0s 8ms/step - loss: 0.6599 - val_loss: 0.3287\n",
      "Epoch 104/500\n",
      "21/21 [==============================] - 0s 8ms/step - loss: 0.6833 - val_loss: 0.2938\n",
      "Epoch 105/500\n",
      "21/21 [==============================] - 0s 8ms/step - loss: 0.6596 - val_loss: 0.3170\n",
      "Epoch 106/500\n",
      "21/21 [==============================] - 0s 9ms/step - loss: 0.6756 - val_loss: 0.2891\n",
      "Epoch 107/500\n",
      "21/21 [==============================] - 0s 8ms/step - loss: 0.6757 - val_loss: 0.2882\n",
      "Epoch 108/500\n",
      "21/21 [==============================] - 0s 8ms/step - loss: 0.6676 - val_loss: 0.3124\n",
      "Epoch 109/500\n",
      "21/21 [==============================] - 0s 8ms/step - loss: 0.6696 - val_loss: 0.2893\n",
      "Epoch 110/500\n",
      "21/21 [==============================] - 0s 8ms/step - loss: 0.6611 - val_loss: 0.3142\n",
      "Epoch 111/500\n",
      "21/21 [==============================] - 0s 7ms/step - loss: 0.6400 - val_loss: 0.2842\n",
      "Epoch 112/500\n",
      "21/21 [==============================] - 0s 7ms/step - loss: 0.6359 - val_loss: 0.3190\n",
      "Epoch 113/500\n",
      "21/21 [==============================] - 0s 7ms/step - loss: 0.6553 - val_loss: 0.2936\n",
      "Epoch 114/500\n",
      "21/21 [==============================] - 0s 7ms/step - loss: 0.6676 - val_loss: 0.2960\n",
      "Epoch 115/500\n",
      "21/21 [==============================] - 0s 7ms/step - loss: 0.6485 - val_loss: 0.3418\n",
      "Epoch 116/500\n",
      "21/21 [==============================] - 0s 7ms/step - loss: 0.6481 - val_loss: 0.3664\n",
      "Epoch 117/500\n",
      "21/21 [==============================] - 0s 7ms/step - loss: 0.6633 - val_loss: 0.3355\n",
      "Epoch 118/500\n",
      "21/21 [==============================] - 0s 7ms/step - loss: 0.6649 - val_loss: 0.2868\n",
      "Epoch 119/500\n",
      "21/21 [==============================] - 0s 7ms/step - loss: 0.6394 - val_loss: 0.3039\n",
      "Epoch 120/500\n",
      "21/21 [==============================] - 0s 7ms/step - loss: 0.6132 - val_loss: 0.3706\n",
      "Epoch 121/500\n",
      "21/21 [==============================] - 0s 7ms/step - loss: 0.6285 - val_loss: 0.3026\n",
      "Epoch 122/500\n",
      "21/21 [==============================] - 0s 8ms/step - loss: 0.6295 - val_loss: 0.2974\n",
      "Epoch 123/500\n",
      "21/21 [==============================] - 0s 8ms/step - loss: 0.6237 - val_loss: 0.3184\n",
      "Epoch 124/500\n",
      "21/21 [==============================] - 0s 9ms/step - loss: 0.6402 - val_loss: 0.2939\n",
      "Epoch 125/500\n",
      "21/21 [==============================] - 0s 9ms/step - loss: 0.6021 - val_loss: 0.3362\n",
      "Epoch 126/500\n",
      "21/21 [==============================] - 0s 9ms/step - loss: 0.6269 - val_loss: 0.3003\n",
      "Epoch 127/500\n",
      "21/21 [==============================] - 0s 8ms/step - loss: 0.6049 - val_loss: 0.3082\n",
      "Epoch 128/500\n",
      "21/21 [==============================] - 0s 9ms/step - loss: 0.6137 - val_loss: 0.3065\n",
      "Epoch 129/500\n",
      "21/21 [==============================] - 0s 8ms/step - loss: 0.6050 - val_loss: 0.2964\n",
      "Epoch 130/500\n",
      "21/21 [==============================] - 0s 8ms/step - loss: 0.6114 - val_loss: 0.3065\n",
      "Epoch 131/500\n",
      "21/21 [==============================] - 0s 9ms/step - loss: 0.5995 - val_loss: 0.3137\n",
      "Epoch 132/500\n",
      "21/21 [==============================] - 0s 7ms/step - loss: 0.5971 - val_loss: 0.3001\n",
      "Epoch 133/500\n",
      "21/21 [==============================] - 0s 7ms/step - loss: 0.6232 - val_loss: 0.2867\n",
      "Epoch 134/500\n",
      "21/21 [==============================] - 0s 7ms/step - loss: 0.6052 - val_loss: 0.2912\n",
      "Epoch 135/500\n",
      "21/21 [==============================] - 0s 7ms/step - loss: 0.6040 - val_loss: 0.2812\n",
      "Epoch 136/500\n",
      "21/21 [==============================] - 0s 7ms/step - loss: 0.5954 - val_loss: 0.3268\n",
      "Epoch 137/500\n",
      "21/21 [==============================] - 0s 7ms/step - loss: 0.5992 - val_loss: 0.3029\n",
      "Epoch 138/500\n",
      "21/21 [==============================] - 0s 7ms/step - loss: 0.6239 - val_loss: 0.2875\n",
      "Epoch 139/500\n",
      "21/21 [==============================] - 0s 7ms/step - loss: 0.5891 - val_loss: 0.2921\n",
      "Epoch 140/500\n",
      "21/21 [==============================] - 0s 7ms/step - loss: 0.5930 - val_loss: 0.3109\n",
      "Epoch 141/500\n",
      "21/21 [==============================] - 0s 7ms/step - loss: 0.5903 - val_loss: 0.3103\n",
      "Epoch 142/500\n",
      "21/21 [==============================] - 0s 7ms/step - loss: 0.5965 - val_loss: 0.2910\n",
      "Epoch 143/500\n",
      "21/21 [==============================] - 0s 8ms/step - loss: 0.5731 - val_loss: 0.3455\n",
      "Epoch 144/500\n",
      "21/21 [==============================] - 0s 8ms/step - loss: 0.5928 - val_loss: 0.2975\n",
      "Epoch 145/500\n",
      "21/21 [==============================] - 0s 8ms/step - loss: 0.5966 - val_loss: 0.2820\n",
      "Epoch 146/500\n",
      "21/21 [==============================] - 0s 8ms/step - loss: 0.5553 - val_loss: 0.2849\n",
      "Epoch 147/500\n",
      "21/21 [==============================] - 0s 9ms/step - loss: 0.5769 - val_loss: 0.3312\n",
      "Epoch 148/500\n",
      "21/21 [==============================] - 0s 8ms/step - loss: 0.5593 - val_loss: 0.3081\n",
      "Epoch 149/500\n",
      "21/21 [==============================] - 0s 7ms/step - loss: 0.5798 - val_loss: 0.3257\n",
      "Epoch 150/500\n",
      "21/21 [==============================] - 0s 7ms/step - loss: 0.5654 - val_loss: 0.2868\n",
      "Epoch 151/500\n",
      "21/21 [==============================] - 0s 7ms/step - loss: 0.5497 - val_loss: 0.2837\n",
      "Epoch 152/500\n",
      "21/21 [==============================] - 0s 7ms/step - loss: 0.5549 - val_loss: 0.3094\n",
      "Epoch 153/500\n",
      "21/21 [==============================] - 0s 7ms/step - loss: 0.5555 - val_loss: 0.3230\n",
      "Epoch 154/500\n",
      "21/21 [==============================] - 0s 7ms/step - loss: 0.5485 - val_loss: 0.2977\n",
      "Epoch 155/500\n",
      "21/21 [==============================] - 0s 7ms/step - loss: 0.5622 - val_loss: 0.2974\n",
      "Epoch 156/500\n",
      "21/21 [==============================] - 0s 7ms/step - loss: 0.5496 - val_loss: 0.2858\n",
      "Epoch 157/500\n",
      "21/21 [==============================] - 0s 7ms/step - loss: 0.5570 - val_loss: 0.2913\n",
      "Epoch 158/500\n",
      "21/21 [==============================] - 0s 7ms/step - loss: 0.5494 - val_loss: 0.2856\n",
      "Epoch 159/500\n",
      "21/21 [==============================] - 0s 7ms/step - loss: 0.5497 - val_loss: 0.2972\n",
      "Epoch 160/500\n",
      "21/21 [==============================] - 0s 8ms/step - loss: 0.5377 - val_loss: 0.2936\n",
      "Epoch 161/500\n",
      "21/21 [==============================] - 0s 8ms/step - loss: 0.5326 - val_loss: 0.2939\n",
      "Epoch 162/500\n",
      "21/21 [==============================] - 0s 8ms/step - loss: 0.5603 - val_loss: 0.3787\n",
      "Epoch 163/500\n",
      "21/21 [==============================] - 0s 8ms/step - loss: 0.5429 - val_loss: 0.2960\n",
      "Epoch 164/500\n"
     ]
    },
    {
     "name": "stdout",
     "output_type": "stream",
     "text": [
      "21/21 [==============================] - 0s 8ms/step - loss: 0.5392 - val_loss: 0.2963\n",
      "Epoch 165/500\n",
      "21/21 [==============================] - 0s 8ms/step - loss: 0.5382 - val_loss: 0.3502\n",
      "Epoch 166/500\n",
      "21/21 [==============================] - 0s 7ms/step - loss: 0.5473 - val_loss: 0.2856\n",
      "Epoch 167/500\n",
      "21/21 [==============================] - 0s 7ms/step - loss: 0.5295 - val_loss: 0.2876\n",
      "Epoch 168/500\n",
      "21/21 [==============================] - 0s 7ms/step - loss: 0.5142 - val_loss: 0.2881\n",
      "Epoch 169/500\n",
      "21/21 [==============================] - 0s 7ms/step - loss: 0.4989 - val_loss: 0.2919\n",
      "Epoch 170/500\n",
      "21/21 [==============================] - 0s 7ms/step - loss: 0.5024 - val_loss: 0.2880\n",
      "Epoch 171/500\n",
      "21/21 [==============================] - 0s 7ms/step - loss: 0.5109 - val_loss: 0.2929\n",
      "Epoch 172/500\n",
      "21/21 [==============================] - 0s 7ms/step - loss: 0.5181 - val_loss: 0.3161\n",
      "Epoch 173/500\n",
      "21/21 [==============================] - 0s 7ms/step - loss: 0.5151 - val_loss: 0.2956\n",
      "Epoch 174/500\n",
      "21/21 [==============================] - 0s 7ms/step - loss: 0.5058 - val_loss: 0.3068\n",
      "Epoch 175/500\n",
      "21/21 [==============================] - 0s 7ms/step - loss: 0.4986 - val_loss: 0.2891\n",
      "Epoch 176/500\n",
      "21/21 [==============================] - 0s 7ms/step - loss: 0.4906 - val_loss: 0.2873\n",
      "Epoch 177/500\n",
      "21/21 [==============================] - 0s 7ms/step - loss: 0.4977 - val_loss: 0.2933\n",
      "Epoch 178/500\n",
      "21/21 [==============================] - 0s 8ms/step - loss: 0.4976 - val_loss: 0.2980\n",
      "Epoch 179/500\n",
      "21/21 [==============================] - 0s 8ms/step - loss: 0.4912 - val_loss: 0.3081\n",
      "Epoch 180/500\n",
      "21/21 [==============================] - 0s 9ms/step - loss: 0.4923 - val_loss: 0.3110\n",
      "Epoch 181/500\n",
      "21/21 [==============================] - 0s 9ms/step - loss: 0.4951 - val_loss: 0.2815\n",
      "Epoch 182/500\n",
      "21/21 [==============================] - 0s 9ms/step - loss: 0.4883 - val_loss: 0.2987\n",
      "Epoch 183/500\n",
      "21/21 [==============================] - 0s 9ms/step - loss: 0.4990 - val_loss: 0.2884\n",
      "Epoch 184/500\n",
      "21/21 [==============================] - 0s 8ms/step - loss: 0.4861 - val_loss: 0.2824\n",
      "Epoch 185/500\n",
      "21/21 [==============================] - 0s 7ms/step - loss: 0.4876 - val_loss: 0.2864\n",
      "Epoch 186/500\n",
      "21/21 [==============================] - 0s 7ms/step - loss: 0.4806 - val_loss: 0.2994\n",
      "Epoch 187/500\n",
      "21/21 [==============================] - 0s 7ms/step - loss: 0.4748 - val_loss: 0.2975\n",
      "Epoch 188/500\n",
      "21/21 [==============================] - 0s 7ms/step - loss: 0.4873 - val_loss: 0.2910\n",
      "Epoch 189/500\n",
      "21/21 [==============================] - 0s 7ms/step - loss: 0.4709 - val_loss: 0.2801\n",
      "Epoch 190/500\n",
      "21/21 [==============================] - 0s 7ms/step - loss: 0.4807 - val_loss: 0.2845\n",
      "Epoch 191/500\n",
      "21/21 [==============================] - 0s 7ms/step - loss: 0.4775 - val_loss: 0.2879\n",
      "Epoch 192/500\n",
      "21/21 [==============================] - 0s 7ms/step - loss: 0.4758 - val_loss: 0.2827\n",
      "Epoch 193/500\n",
      "21/21 [==============================] - 0s 7ms/step - loss: 0.4631 - val_loss: 0.2816\n",
      "Epoch 194/500\n",
      "21/21 [==============================] - 0s 7ms/step - loss: 0.4729 - val_loss: 0.2836\n",
      "Epoch 195/500\n",
      "21/21 [==============================] - 0s 7ms/step - loss: 0.4627 - val_loss: 0.3191\n",
      "Epoch 196/500\n",
      "21/21 [==============================] - 0s 7ms/step - loss: 0.4628 - val_loss: 0.2826\n",
      "Epoch 197/500\n",
      "21/21 [==============================] - 0s 8ms/step - loss: 0.4562 - val_loss: 0.2960\n",
      "Epoch 198/500\n",
      "21/21 [==============================] - 0s 8ms/step - loss: 0.4557 - val_loss: 0.2792\n",
      "Epoch 199/500\n",
      "21/21 [==============================] - 0s 8ms/step - loss: 0.4516 - val_loss: 0.2820\n",
      "Epoch 200/500\n",
      "21/21 [==============================] - 0s 8ms/step - loss: 0.4490 - val_loss: 0.3205\n",
      "Epoch 201/500\n",
      "21/21 [==============================] - 0s 8ms/step - loss: 0.4443 - val_loss: 0.2897\n",
      "Epoch 202/500\n",
      "21/21 [==============================] - 0s 9ms/step - loss: 0.4337 - val_loss: 0.3034\n",
      "Epoch 203/500\n",
      "21/21 [==============================] - 0s 9ms/step - loss: 0.4582 - val_loss: 0.3191\n",
      "Epoch 204/500\n",
      "21/21 [==============================] - 0s 8ms/step - loss: 0.4349 - val_loss: 0.3453\n",
      "Epoch 205/500\n",
      "21/21 [==============================] - 0s 7ms/step - loss: 0.4501 - val_loss: 0.2926\n",
      "Epoch 206/500\n",
      "21/21 [==============================] - 0s 7ms/step - loss: 0.4299 - val_loss: 0.2918\n",
      "Epoch 207/500\n",
      "21/21 [==============================] - 0s 7ms/step - loss: 0.4283 - val_loss: 0.2798\n",
      "Epoch 208/500\n",
      "21/21 [==============================] - 0s 7ms/step - loss: 0.4339 - val_loss: 0.2778\n",
      "Epoch 209/500\n",
      "21/21 [==============================] - 0s 7ms/step - loss: 0.4329 - val_loss: 0.2793\n",
      "Epoch 210/500\n",
      "21/21 [==============================] - 0s 7ms/step - loss: 0.4263 - val_loss: 0.2856\n",
      "Epoch 211/500\n",
      "21/21 [==============================] - 0s 7ms/step - loss: 0.4342 - val_loss: 0.3238\n",
      "Epoch 212/500\n",
      "21/21 [==============================] - 0s 7ms/step - loss: 0.4306 - val_loss: 0.2770\n",
      "Epoch 213/500\n",
      "21/21 [==============================] - 0s 7ms/step - loss: 0.4231 - val_loss: 0.3011\n",
      "Epoch 214/500\n",
      "21/21 [==============================] - 0s 7ms/step - loss: 0.4337 - val_loss: 0.2862\n",
      "Epoch 215/500\n",
      "21/21 [==============================] - 0s 7ms/step - loss: 0.4264 - val_loss: 0.2880\n",
      "Epoch 216/500\n",
      "21/21 [==============================] - 0s 8ms/step - loss: 0.4106 - val_loss: 0.2884\n",
      "Epoch 217/500\n",
      "21/21 [==============================] - 0s 8ms/step - loss: 0.3937 - val_loss: 0.2818\n",
      "Epoch 218/500\n",
      "21/21 [==============================] - 0s 8ms/step - loss: 0.4185 - val_loss: 0.2769\n",
      "Epoch 219/500\n",
      "21/21 [==============================] - 0s 8ms/step - loss: 0.4193 - val_loss: 0.3058\n",
      "Epoch 220/500\n",
      "21/21 [==============================] - 0s 9ms/step - loss: 0.4075 - val_loss: 0.2828\n",
      "Epoch 221/500\n",
      "21/21 [==============================] - 0s 9ms/step - loss: 0.4089 - val_loss: 0.2815\n",
      "Epoch 222/500\n",
      "21/21 [==============================] - 0s 8ms/step - loss: 0.4076 - val_loss: 0.2938\n",
      "Epoch 223/500\n",
      "21/21 [==============================] - 0s 8ms/step - loss: 0.4062 - val_loss: 0.2799\n",
      "Epoch 224/500\n",
      "21/21 [==============================] - 0s 7ms/step - loss: 0.4018 - val_loss: 0.2782\n",
      "Epoch 225/500\n",
      "21/21 [==============================] - 0s 7ms/step - loss: 0.3940 - val_loss: 0.2804\n",
      "Epoch 226/500\n",
      "21/21 [==============================] - 0s 7ms/step - loss: 0.3931 - val_loss: 0.2889\n",
      "Epoch 227/500\n",
      "21/21 [==============================] - 0s 7ms/step - loss: 0.3932 - val_loss: 0.2893\n",
      "Epoch 228/500\n",
      "21/21 [==============================] - 0s 7ms/step - loss: 0.3833 - val_loss: 0.2876\n",
      "Epoch 229/500\n",
      "21/21 [==============================] - 0s 7ms/step - loss: 0.3766 - val_loss: 0.2816\n",
      "Epoch 230/500\n",
      "21/21 [==============================] - 0s 7ms/step - loss: 0.3784 - val_loss: 0.2941\n",
      "Epoch 231/500\n",
      "21/21 [==============================] - 0s 9ms/step - loss: 0.3817 - val_loss: 0.2931\n",
      "Epoch 232/500\n",
      "21/21 [==============================] - 0s 8ms/step - loss: 0.3825 - val_loss: 0.2832\n",
      "Epoch 233/500\n",
      "21/21 [==============================] - 0s 7ms/step - loss: 0.3688 - val_loss: 0.2831\n",
      "Epoch 234/500\n",
      "21/21 [==============================] - 0s 7ms/step - loss: 0.3767 - val_loss: 0.2876\n",
      "Epoch 235/500\n",
      "21/21 [==============================] - 0s 7ms/step - loss: 0.3666 - val_loss: 0.2809\n",
      "Epoch 236/500\n",
      "21/21 [==============================] - 0s 9ms/step - loss: 0.3673 - val_loss: 0.2851\n",
      "Epoch 237/500\n",
      "21/21 [==============================] - 0s 9ms/step - loss: 0.3785 - val_loss: 0.2932\n",
      "Epoch 238/500\n",
      "21/21 [==============================] - 0s 9ms/step - loss: 0.3746 - val_loss: 0.3031\n",
      "Epoch 239/500\n",
      "21/21 [==============================] - 0s 9ms/step - loss: 0.3654 - val_loss: 0.2812\n",
      "Epoch 240/500\n",
      "21/21 [==============================] - 0s 9ms/step - loss: 0.3597 - val_loss: 0.2776\n",
      "Epoch 241/500\n",
      "21/21 [==============================] - 0s 9ms/step - loss: 0.3581 - val_loss: 0.2812\n",
      "Epoch 242/500\n",
      "21/21 [==============================] - 0s 9ms/step - loss: 0.3583 - val_loss: 0.2817\n",
      "Epoch 243/500\n",
      "21/21 [==============================] - 0s 9ms/step - loss: 0.3583 - val_loss: 0.2787\n",
      "Epoch 244/500\n",
      "21/21 [==============================] - 0s 8ms/step - loss: 0.3518 - val_loss: 0.2762\n",
      "Epoch 245/500\n"
     ]
    },
    {
     "name": "stdout",
     "output_type": "stream",
     "text": [
      "21/21 [==============================] - 0s 8ms/step - loss: 0.3509 - val_loss: 0.2822\n",
      "Epoch 246/500\n",
      "21/21 [==============================] - 0s 9ms/step - loss: 0.3588 - val_loss: 0.2737\n",
      "Epoch 247/500\n",
      "21/21 [==============================] - 0s 9ms/step - loss: 0.3544 - val_loss: 0.2770\n",
      "Epoch 248/500\n",
      "21/21 [==============================] - 0s 8ms/step - loss: 0.3473 - val_loss: 0.2916\n",
      "Epoch 249/500\n",
      "21/21 [==============================] - 0s 9ms/step - loss: 0.3415 - val_loss: 0.2912\n",
      "Epoch 250/500\n",
      "21/21 [==============================] - 0s 9ms/step - loss: 0.3357 - val_loss: 0.2810\n",
      "Epoch 251/500\n",
      "21/21 [==============================] - 0s 8ms/step - loss: 0.3442 - val_loss: 0.2781\n",
      "Epoch 252/500\n",
      "21/21 [==============================] - 0s 7ms/step - loss: 0.3393 - val_loss: 0.2893\n",
      "Epoch 253/500\n",
      "21/21 [==============================] - 0s 7ms/step - loss: 0.3390 - val_loss: 0.2849\n",
      "Epoch 254/500\n",
      "21/21 [==============================] - 0s 7ms/step - loss: 0.3311 - val_loss: 0.2751\n",
      "Epoch 255/500\n",
      "21/21 [==============================] - 0s 7ms/step - loss: 0.3287 - val_loss: 0.2739\n",
      "Epoch 256/500\n",
      "21/21 [==============================] - 0s 8ms/step - loss: 0.3287 - val_loss: 0.2775\n",
      "Epoch 257/500\n",
      "21/21 [==============================] - 0s 7ms/step - loss: 0.3295 - val_loss: 0.2796\n",
      "Epoch 258/500\n",
      "21/21 [==============================] - 0s 7ms/step - loss: 0.3253 - val_loss: 0.2752\n",
      "Epoch 259/500\n",
      "21/21 [==============================] - 0s 7ms/step - loss: 0.3180 - val_loss: 0.2761\n",
      "Epoch 260/500\n",
      "21/21 [==============================] - 0s 7ms/step - loss: 0.3207 - val_loss: 0.2750\n",
      "Epoch 261/500\n",
      "21/21 [==============================] - 0s 7ms/step - loss: 0.3243 - val_loss: 0.2694\n",
      "Epoch 262/500\n",
      "21/21 [==============================] - 0s 7ms/step - loss: 0.3174 - val_loss: 0.2757\n",
      "Epoch 263/500\n",
      "21/21 [==============================] - 0s 9ms/step - loss: 0.3169 - val_loss: 0.2727\n",
      "Epoch 264/500\n",
      "21/21 [==============================] - 0s 8ms/step - loss: 0.3079 - val_loss: 0.2725\n",
      "Epoch 265/500\n",
      "21/21 [==============================] - 0s 8ms/step - loss: 0.3151 - val_loss: 0.2732\n",
      "Epoch 266/500\n",
      "21/21 [==============================] - 0s 8ms/step - loss: 0.3161 - val_loss: 0.2910\n",
      "Epoch 267/500\n",
      "21/21 [==============================] - 0s 7ms/step - loss: 0.3115 - val_loss: 0.2880\n",
      "Epoch 268/500\n",
      "21/21 [==============================] - 0s 7ms/step - loss: 0.3075 - val_loss: 0.2729\n",
      "Epoch 269/500\n",
      "21/21 [==============================] - 0s 7ms/step - loss: 0.3020 - val_loss: 0.2717\n",
      "Epoch 270/500\n",
      "21/21 [==============================] - 0s 7ms/step - loss: 0.3002 - val_loss: 0.2732\n",
      "Epoch 271/500\n",
      "21/21 [==============================] - 0s 7ms/step - loss: 0.2874 - val_loss: 0.2783\n",
      "Epoch 272/500\n",
      "21/21 [==============================] - 0s 7ms/step - loss: 0.2980 - val_loss: 0.2748\n",
      "Epoch 273/500\n",
      "21/21 [==============================] - 0s 7ms/step - loss: 0.3012 - val_loss: 0.2725\n",
      "Epoch 274/500\n",
      "21/21 [==============================] - 0s 7ms/step - loss: 0.2956 - val_loss: 0.2819\n",
      "Epoch 275/500\n",
      "21/21 [==============================] - 0s 7ms/step - loss: 0.2936 - val_loss: 0.2722\n",
      "Epoch 276/500\n",
      "21/21 [==============================] - 0s 7ms/step - loss: 0.2877 - val_loss: 0.2785\n",
      "Epoch 277/500\n",
      "21/21 [==============================] - 0s 7ms/step - loss: 0.2845 - val_loss: 0.2703\n",
      "Epoch 278/500\n",
      "21/21 [==============================] - 0s 8ms/step - loss: 0.2828 - val_loss: 0.2857\n",
      "Epoch 279/500\n",
      "21/21 [==============================] - 0s 8ms/step - loss: 0.2774 - val_loss: 0.2696\n",
      "Epoch 280/500\n",
      "21/21 [==============================] - 0s 8ms/step - loss: 0.2801 - val_loss: 0.2783\n",
      "Epoch 281/500\n",
      "21/21 [==============================] - 0s 8ms/step - loss: 0.2837 - val_loss: 0.2719\n",
      "Epoch 282/500\n",
      "21/21 [==============================] - 0s 7ms/step - loss: 0.2819 - val_loss: 0.2759\n",
      "Epoch 283/500\n",
      "21/21 [==============================] - 0s 7ms/step - loss: 0.2798 - val_loss: 0.2688\n",
      "Epoch 284/500\n",
      "21/21 [==============================] - 0s 7ms/step - loss: 0.2754 - val_loss: 0.2859\n",
      "Epoch 285/500\n",
      "21/21 [==============================] - 0s 7ms/step - loss: 0.2738 - val_loss: 0.2770\n",
      "Epoch 286/500\n",
      "21/21 [==============================] - 0s 7ms/step - loss: 0.2773 - val_loss: 0.2712\n",
      "Epoch 287/500\n",
      "21/21 [==============================] - 0s 7ms/step - loss: 0.2694 - val_loss: 0.2729\n",
      "Epoch 288/500\n",
      "21/21 [==============================] - 0s 7ms/step - loss: 0.2737 - val_loss: 0.2823\n",
      "Epoch 289/500\n",
      "21/21 [==============================] - 0s 7ms/step - loss: 0.2638 - val_loss: 0.2734\n",
      "Epoch 290/500\n",
      "21/21 [==============================] - 0s 7ms/step - loss: 0.2641 - val_loss: 0.2715\n",
      "Epoch 291/500\n",
      "21/21 [==============================] - 0s 7ms/step - loss: 0.2726 - val_loss: 0.2756\n",
      "Epoch 292/500\n",
      "21/21 [==============================] - 0s 7ms/step - loss: 0.2619 - val_loss: 0.2728\n",
      "Epoch 293/500\n",
      "21/21 [==============================] - 0s 8ms/step - loss: 0.2527 - val_loss: 0.2687\n",
      "Epoch 294/500\n",
      "21/21 [==============================] - 0s 9ms/step - loss: 0.2574 - val_loss: 0.2744\n",
      "Epoch 295/500\n",
      "21/21 [==============================] - 0s 9ms/step - loss: 0.2566 - val_loss: 0.2677\n",
      "Epoch 296/500\n",
      "21/21 [==============================] - 0s 8ms/step - loss: 0.2503 - val_loss: 0.2708\n",
      "Epoch 297/500\n",
      "21/21 [==============================] - 0s 8ms/step - loss: 0.2498 - val_loss: 0.2641\n",
      "Epoch 298/500\n",
      "21/21 [==============================] - 0s 8ms/step - loss: 0.2368 - val_loss: 0.2657\n",
      "Epoch 299/500\n",
      "21/21 [==============================] - 0s 8ms/step - loss: 0.2421 - val_loss: 0.2652\n",
      "Epoch 300/500\n",
      "21/21 [==============================] - 0s 8ms/step - loss: 0.2439 - val_loss: 0.2654\n",
      "Epoch 301/500\n",
      "21/21 [==============================] - 0s 7ms/step - loss: 0.2409 - val_loss: 0.2628\n",
      "Epoch 302/500\n",
      "21/21 [==============================] - 0s 7ms/step - loss: 0.2464 - val_loss: 0.2680\n",
      "Epoch 303/500\n",
      "21/21 [==============================] - 0s 7ms/step - loss: 0.2413 - val_loss: 0.2736\n",
      "Epoch 304/500\n",
      "21/21 [==============================] - 0s 7ms/step - loss: 0.2393 - val_loss: 0.2735\n",
      "Epoch 305/500\n",
      "21/21 [==============================] - 0s 7ms/step - loss: 0.2306 - val_loss: 0.2743\n",
      "Epoch 306/500\n",
      "21/21 [==============================] - 0s 7ms/step - loss: 0.2420 - val_loss: 0.2718\n",
      "Epoch 307/500\n",
      "21/21 [==============================] - 0s 7ms/step - loss: 0.2367 - val_loss: 0.2723\n",
      "Epoch 308/500\n",
      "21/21 [==============================] - 0s 7ms/step - loss: 0.2325 - val_loss: 0.2730\n",
      "Epoch 309/500\n",
      "21/21 [==============================] - 0s 7ms/step - loss: 0.2387 - val_loss: 0.2853\n",
      "Epoch 310/500\n",
      "21/21 [==============================] - 0s 7ms/step - loss: 0.2304 - val_loss: 0.2686\n",
      "Epoch 311/500\n",
      "21/21 [==============================] - 0s 8ms/step - loss: 0.2317 - val_loss: 0.2700\n",
      "Epoch 312/500\n",
      "21/21 [==============================] - 0s 9ms/step - loss: 0.2276 - val_loss: 0.2718\n",
      "Epoch 313/500\n",
      "21/21 [==============================] - 0s 8ms/step - loss: 0.2333 - val_loss: 0.2676\n",
      "Epoch 314/500\n",
      "21/21 [==============================] - 0s 8ms/step - loss: 0.2336 - val_loss: 0.2616\n",
      "Epoch 315/500\n",
      "21/21 [==============================] - 0s 8ms/step - loss: 0.2221 - val_loss: 0.2661\n",
      "Epoch 316/500\n",
      "21/21 [==============================] - 0s 8ms/step - loss: 0.2168 - val_loss: 0.2665\n",
      "Epoch 317/500\n",
      "21/21 [==============================] - 0s 7ms/step - loss: 0.2144 - val_loss: 0.2679\n",
      "Epoch 318/500\n",
      "21/21 [==============================] - 0s 7ms/step - loss: 0.2171 - val_loss: 0.2675\n",
      "Epoch 319/500\n",
      "21/21 [==============================] - 0s 7ms/step - loss: 0.2150 - val_loss: 0.2764\n",
      "Epoch 320/500\n",
      "21/21 [==============================] - 0s 7ms/step - loss: 0.2099 - val_loss: 0.2687\n",
      "Epoch 321/500\n",
      "21/21 [==============================] - 0s 7ms/step - loss: 0.2155 - val_loss: 0.2740\n",
      "Epoch 322/500\n",
      "21/21 [==============================] - 0s 7ms/step - loss: 0.2027 - val_loss: 0.2709\n",
      "Epoch 323/500\n",
      "21/21 [==============================] - 0s 7ms/step - loss: 0.2063 - val_loss: 0.2714\n",
      "Epoch 324/500\n",
      "21/21 [==============================] - 0s 7ms/step - loss: 0.2092 - val_loss: 0.2756\n",
      "Epoch 325/500\n",
      "21/21 [==============================] - 0s 8ms/step - loss: 0.2107 - val_loss: 0.2820\n",
      "Epoch 326/500\n"
     ]
    },
    {
     "name": "stdout",
     "output_type": "stream",
     "text": [
      "21/21 [==============================] - 0s 9ms/step - loss: 0.2167 - val_loss: 0.2729\n",
      "Epoch 327/500\n",
      "21/21 [==============================] - 0s 8ms/step - loss: 0.2052 - val_loss: 0.2650\n",
      "Epoch 328/500\n",
      "21/21 [==============================] - 0s 8ms/step - loss: 0.2026 - val_loss: 0.2679\n",
      "Epoch 329/500\n",
      "21/21 [==============================] - 0s 8ms/step - loss: 0.2012 - val_loss: 0.2640\n",
      "Epoch 330/500\n",
      "21/21 [==============================] - 0s 9ms/step - loss: 0.1954 - val_loss: 0.2660\n",
      "Epoch 331/500\n",
      "21/21 [==============================] - 0s 8ms/step - loss: 0.1941 - val_loss: 0.2639\n",
      "Epoch 332/500\n",
      "21/21 [==============================] - 0s 8ms/step - loss: 0.1899 - val_loss: 0.2686\n",
      "Epoch 333/500\n",
      "21/21 [==============================] - 0s 7ms/step - loss: 0.1914 - val_loss: 0.2693\n",
      "Epoch 334/500\n",
      "21/21 [==============================] - 0s 7ms/step - loss: 0.1871 - val_loss: 0.2602\n",
      "Epoch 335/500\n",
      "21/21 [==============================] - 0s 7ms/step - loss: 0.1890 - val_loss: 0.2670\n",
      "Epoch 336/500\n",
      "21/21 [==============================] - 0s 7ms/step - loss: 0.1890 - val_loss: 0.2643\n",
      "Epoch 337/500\n",
      "21/21 [==============================] - 0s 7ms/step - loss: 0.1913 - val_loss: 0.2681\n",
      "Epoch 338/500\n",
      "21/21 [==============================] - 0s 7ms/step - loss: 0.1837 - val_loss: 0.2688\n",
      "Epoch 339/500\n",
      "21/21 [==============================] - 0s 7ms/step - loss: 0.1824 - val_loss: 0.2642\n",
      "Epoch 340/500\n",
      "21/21 [==============================] - 0s 7ms/step - loss: 0.1809 - val_loss: 0.2647\n",
      "Epoch 341/500\n",
      "21/21 [==============================] - 0s 7ms/step - loss: 0.1820 - val_loss: 0.2635\n",
      "Epoch 342/500\n",
      "21/21 [==============================] - 0s 7ms/step - loss: 0.1776 - val_loss: 0.2584\n",
      "Epoch 343/500\n",
      "21/21 [==============================] - 0s 7ms/step - loss: 0.1864 - val_loss: 0.2659\n",
      "Epoch 344/500\n",
      "21/21 [==============================] - 0s 7ms/step - loss: 0.1788 - val_loss: 0.2633\n",
      "Epoch 345/500\n",
      "21/21 [==============================] - 0s 8ms/step - loss: 0.1687 - val_loss: 0.2645\n",
      "Epoch 346/500\n",
      "21/21 [==============================] - 0s 8ms/step - loss: 0.1768 - val_loss: 0.2617\n",
      "Epoch 347/500\n",
      "21/21 [==============================] - 0s 8ms/step - loss: 0.1750 - val_loss: 0.2611\n",
      "Epoch 348/500\n",
      "21/21 [==============================] - 0s 8ms/step - loss: 0.1760 - val_loss: 0.2620\n",
      "Epoch 349/500\n",
      "21/21 [==============================] - 0s 8ms/step - loss: 0.1765 - val_loss: 0.2684\n",
      "Epoch 350/500\n",
      "21/21 [==============================] - 0s 8ms/step - loss: 0.1665 - val_loss: 0.2601\n",
      "Epoch 351/500\n",
      "21/21 [==============================] - 0s 8ms/step - loss: 0.1674 - val_loss: 0.2638\n",
      "Epoch 352/500\n",
      "21/21 [==============================] - 0s 7ms/step - loss: 0.1654 - val_loss: 0.2698\n",
      "Epoch 353/500\n",
      "21/21 [==============================] - 0s 7ms/step - loss: 0.1646 - val_loss: 0.2617\n",
      "Epoch 354/500\n",
      "21/21 [==============================] - 0s 7ms/step - loss: 0.1673 - val_loss: 0.2650\n",
      "Epoch 355/500\n",
      "21/21 [==============================] - 0s 7ms/step - loss: 0.1616 - val_loss: 0.2636\n",
      "Epoch 356/500\n",
      "21/21 [==============================] - 0s 7ms/step - loss: 0.1607 - val_loss: 0.2669\n",
      "Epoch 357/500\n",
      "21/21 [==============================] - 0s 7ms/step - loss: 0.1591 - val_loss: 0.2638\n",
      "Epoch 358/500\n",
      "21/21 [==============================] - 0s 7ms/step - loss: 0.1526 - val_loss: 0.2606\n",
      "Epoch 359/500\n",
      "21/21 [==============================] - 0s 7ms/step - loss: 0.1603 - val_loss: 0.2655\n",
      "Epoch 360/500\n",
      "21/21 [==============================] - 0s 7ms/step - loss: 0.1574 - val_loss: 0.2576\n",
      "Epoch 361/500\n",
      "21/21 [==============================] - 0s 7ms/step - loss: 0.1573 - val_loss: 0.2599\n",
      "Epoch 362/500\n",
      "21/21 [==============================] - 0s 7ms/step - loss: 0.1544 - val_loss: 0.2628\n",
      "Epoch 363/500\n",
      "21/21 [==============================] - 0s 8ms/step - loss: 0.1481 - val_loss: 0.2636\n",
      "Epoch 364/500\n",
      "21/21 [==============================] - 0s 8ms/step - loss: 0.1478 - val_loss: 0.2585\n",
      "Epoch 365/500\n",
      "21/21 [==============================] - 0s 8ms/step - loss: 0.1536 - val_loss: 0.2602\n",
      "Epoch 366/500\n",
      "21/21 [==============================] - 0s 8ms/step - loss: 0.1462 - val_loss: 0.2653\n",
      "Epoch 367/500\n",
      "21/21 [==============================] - 0s 8ms/step - loss: 0.1445 - val_loss: 0.2638\n",
      "Epoch 368/500\n",
      "21/21 [==============================] - 0s 8ms/step - loss: 0.1480 - val_loss: 0.2613\n",
      "Epoch 369/500\n",
      "21/21 [==============================] - 0s 8ms/step - loss: 0.1406 - val_loss: 0.2651\n",
      "Epoch 370/500\n",
      "21/21 [==============================] - 0s 8ms/step - loss: 0.1443 - val_loss: 0.2601\n",
      "Epoch 371/500\n",
      "21/21 [==============================] - 0s 8ms/step - loss: 0.1408 - val_loss: 0.2654\n",
      "Epoch 372/500\n",
      "21/21 [==============================] - 0s 7ms/step - loss: 0.1382 - val_loss: 0.2674\n",
      "Epoch 373/500\n",
      "21/21 [==============================] - 0s 7ms/step - loss: 0.1373 - val_loss: 0.2653\n",
      "Epoch 374/500\n",
      "21/21 [==============================] - 0s 7ms/step - loss: 0.1362 - val_loss: 0.2612\n",
      "Epoch 375/500\n",
      "21/21 [==============================] - 0s 7ms/step - loss: 0.1349 - val_loss: 0.2645\n",
      "Epoch 376/500\n",
      "21/21 [==============================] - 0s 7ms/step - loss: 0.1333 - val_loss: 0.2613\n",
      "Epoch 377/500\n",
      "21/21 [==============================] - 0s 7ms/step - loss: 0.1329 - val_loss: 0.2586\n",
      "Epoch 378/500\n",
      "21/21 [==============================] - 0s 7ms/step - loss: 0.1288 - val_loss: 0.2600\n",
      "Epoch 379/500\n",
      "21/21 [==============================] - 0s 7ms/step - loss: 0.1299 - val_loss: 0.2698\n",
      "Epoch 380/500\n",
      "21/21 [==============================] - 0s 7ms/step - loss: 0.1294 - val_loss: 0.2595\n",
      "Epoch 381/500\n",
      "21/21 [==============================] - 0s 7ms/step - loss: 0.1302 - val_loss: 0.2688\n",
      "Epoch 382/500\n",
      "21/21 [==============================] - 0s 7ms/step - loss: 0.1336 - val_loss: 0.2666\n",
      "Epoch 383/500\n",
      "21/21 [==============================] - 0s 8ms/step - loss: 0.1267 - val_loss: 0.2728\n",
      "Epoch 384/500\n",
      "21/21 [==============================] - 0s 8ms/step - loss: 0.1267 - val_loss: 0.2586\n",
      "Epoch 385/500\n",
      "21/21 [==============================] - 0s 8ms/step - loss: 0.1250 - val_loss: 0.2612\n",
      "Epoch 386/500\n",
      "21/21 [==============================] - 0s 8ms/step - loss: 0.1271 - val_loss: 0.2666\n",
      "Epoch 387/500\n",
      "21/21 [==============================] - 0s 7ms/step - loss: 0.1225 - val_loss: 0.2569\n",
      "Epoch 388/500\n",
      "21/21 [==============================] - 0s 7ms/step - loss: 0.1182 - val_loss: 0.2619\n",
      "Epoch 389/500\n",
      "21/21 [==============================] - 0s 7ms/step - loss: 0.1194 - val_loss: 0.2598\n",
      "Epoch 390/500\n",
      "21/21 [==============================] - 0s 7ms/step - loss: 0.1207 - val_loss: 0.2562\n",
      "Epoch 391/500\n",
      "21/21 [==============================] - 0s 7ms/step - loss: 0.1157 - val_loss: 0.2635\n",
      "Epoch 392/500\n",
      "21/21 [==============================] - 0s 7ms/step - loss: 0.1192 - val_loss: 0.2595\n",
      "Epoch 393/500\n",
      "21/21 [==============================] - 0s 7ms/step - loss: 0.1171 - val_loss: 0.2635\n",
      "Epoch 394/500\n",
      "21/21 [==============================] - 0s 7ms/step - loss: 0.1150 - val_loss: 0.2640\n",
      "Epoch 395/500\n",
      "21/21 [==============================] - 0s 7ms/step - loss: 0.1118 - val_loss: 0.2581\n",
      "Epoch 396/500\n",
      "21/21 [==============================] - 0s 7ms/step - loss: 0.1132 - val_loss: 0.2523\n",
      "Epoch 397/500\n",
      "21/21 [==============================] - 0s 7ms/step - loss: 0.1102 - val_loss: 0.2595\n",
      "Epoch 398/500\n",
      "21/21 [==============================] - 0s 8ms/step - loss: 0.1090 - val_loss: 0.2583\n",
      "Epoch 399/500\n",
      "21/21 [==============================] - 0s 9ms/step - loss: 0.1130 - val_loss: 0.2621\n",
      "Epoch 400/500\n",
      "21/21 [==============================] - 0s 8ms/step - loss: 0.1041 - val_loss: 0.2549\n",
      "Epoch 401/500\n",
      "21/21 [==============================] - 0s 8ms/step - loss: 0.1031 - val_loss: 0.2605\n",
      "Epoch 402/500\n",
      "21/21 [==============================] - 0s 8ms/step - loss: 0.1040 - val_loss: 0.2601\n",
      "Epoch 403/500\n",
      "21/21 [==============================] - 0s 8ms/step - loss: 0.1017 - val_loss: 0.2568\n",
      "Epoch 404/500\n",
      "21/21 [==============================] - 0s 8ms/step - loss: 0.1030 - val_loss: 0.2586\n",
      "Epoch 405/500\n",
      "21/21 [==============================] - 0s 8ms/step - loss: 0.1034 - val_loss: 0.2605\n",
      "Epoch 406/500\n",
      "21/21 [==============================] - 0s 7ms/step - loss: 0.1030 - val_loss: 0.2580\n",
      "Epoch 407/500\n"
     ]
    },
    {
     "name": "stdout",
     "output_type": "stream",
     "text": [
      "21/21 [==============================] - 0s 7ms/step - loss: 0.0972 - val_loss: 0.2583\n",
      "Epoch 408/500\n",
      "21/21 [==============================] - 0s 7ms/step - loss: 0.0975 - val_loss: 0.2567\n",
      "Epoch 409/500\n",
      "21/21 [==============================] - 0s 7ms/step - loss: 0.0984 - val_loss: 0.2504\n",
      "Epoch 410/500\n",
      "21/21 [==============================] - 0s 7ms/step - loss: 0.0965 - val_loss: 0.2600\n",
      "Epoch 411/500\n",
      "21/21 [==============================] - 0s 7ms/step - loss: 0.0950 - val_loss: 0.2585\n",
      "Epoch 412/500\n",
      "21/21 [==============================] - 0s 7ms/step - loss: 0.0963 - val_loss: 0.2513\n",
      "Epoch 413/500\n",
      "21/21 [==============================] - 0s 7ms/step - loss: 0.0960 - val_loss: 0.2657\n",
      "Epoch 414/500\n",
      "21/21 [==============================] - 0s 7ms/step - loss: 0.0955 - val_loss: 0.2575\n",
      "Epoch 415/500\n",
      "21/21 [==============================] - 0s 7ms/step - loss: 0.0902 - val_loss: 0.2563\n",
      "Epoch 416/500\n",
      "21/21 [==============================] - 0s 7ms/step - loss: 0.0947 - val_loss: 0.2588\n",
      "Epoch 417/500\n",
      "21/21 [==============================] - 0s 8ms/step - loss: 0.0897 - val_loss: 0.2524\n",
      "Epoch 418/500\n",
      "21/21 [==============================] - 0s 8ms/step - loss: 0.0917 - val_loss: 0.2525\n",
      "Epoch 419/500\n",
      "21/21 [==============================] - 0s 9ms/step - loss: 0.0897 - val_loss: 0.2600\n",
      "Epoch 420/500\n",
      "21/21 [==============================] - 0s 8ms/step - loss: 0.0850 - val_loss: 0.2590\n",
      "Epoch 421/500\n",
      "21/21 [==============================] - 0s 8ms/step - loss: 0.0864 - val_loss: 0.2570\n",
      "Epoch 422/500\n",
      "21/21 [==============================] - 0s 8ms/step - loss: 0.0861 - val_loss: 0.2626\n",
      "Epoch 423/500\n",
      "21/21 [==============================] - 0s 8ms/step - loss: 0.0851 - val_loss: 0.2577\n",
      "Epoch 424/500\n",
      "21/21 [==============================] - 0s 8ms/step - loss: 0.0836 - val_loss: 0.2542\n",
      "Epoch 425/500\n",
      "21/21 [==============================] - 0s 8ms/step - loss: 0.0836 - val_loss: 0.2531\n",
      "Epoch 426/500\n",
      "21/21 [==============================] - 0s 7ms/step - loss: 0.0822 - val_loss: 0.2486\n",
      "Epoch 427/500\n",
      "21/21 [==============================] - 0s 7ms/step - loss: 0.0784 - val_loss: 0.2596\n",
      "Epoch 428/500\n",
      "21/21 [==============================] - 0s 7ms/step - loss: 0.0795 - val_loss: 0.2558\n",
      "Epoch 429/500\n",
      "21/21 [==============================] - 0s 7ms/step - loss: 0.0792 - val_loss: 0.2567\n",
      "Epoch 430/500\n",
      "21/21 [==============================] - 0s 7ms/step - loss: 0.0783 - val_loss: 0.2551\n",
      "Epoch 431/500\n",
      "21/21 [==============================] - 0s 7ms/step - loss: 0.0768 - val_loss: 0.2564\n",
      "Epoch 432/500\n",
      "21/21 [==============================] - 0s 7ms/step - loss: 0.0782 - val_loss: 0.2549\n",
      "Epoch 433/500\n",
      "21/21 [==============================] - 0s 7ms/step - loss: 0.0752 - val_loss: 0.2570\n",
      "Epoch 434/500\n",
      "21/21 [==============================] - 0s 7ms/step - loss: 0.0767 - val_loss: 0.2566\n",
      "Epoch 435/500\n",
      "21/21 [==============================] - 0s 7ms/step - loss: 0.0736 - val_loss: 0.2561\n",
      "Epoch 436/500\n",
      "21/21 [==============================] - 0s 7ms/step - loss: 0.0720 - val_loss: 0.2514\n",
      "Epoch 437/500\n",
      "21/21 [==============================] - 0s 8ms/step - loss: 0.0714 - val_loss: 0.2587\n",
      "Epoch 438/500\n",
      "21/21 [==============================] - 0s 8ms/step - loss: 0.0709 - val_loss: 0.2590\n",
      "Epoch 439/500\n",
      "21/21 [==============================] - 0s 9ms/step - loss: 0.0686 - val_loss: 0.2560\n",
      "Epoch 440/500\n",
      "21/21 [==============================] - 0s 9ms/step - loss: 0.0695 - val_loss: 0.2539\n",
      "Epoch 441/500\n",
      "21/21 [==============================] - 0s 8ms/step - loss: 0.0690 - val_loss: 0.2504\n",
      "Epoch 442/500\n",
      "21/21 [==============================] - 0s 8ms/step - loss: 0.0670 - val_loss: 0.2563\n",
      "Epoch 443/500\n",
      "21/21 [==============================] - 0s 8ms/step - loss: 0.0645 - val_loss: 0.2511\n",
      "Epoch 444/500\n",
      "21/21 [==============================] - 0s 8ms/step - loss: 0.0675 - val_loss: 0.2533\n",
      "Epoch 445/500\n",
      "21/21 [==============================] - 0s 8ms/step - loss: 0.0645 - val_loss: 0.2554\n",
      "Epoch 446/500\n",
      "21/21 [==============================] - 0s 8ms/step - loss: 0.0642 - val_loss: 0.2506\n",
      "Epoch 447/500\n",
      "21/21 [==============================] - 0s 8ms/step - loss: 0.0645 - val_loss: 0.2493\n",
      "Epoch 448/500\n",
      "21/21 [==============================] - 0s 7ms/step - loss: 0.0633 - val_loss: 0.2518\n",
      "Epoch 449/500\n",
      "21/21 [==============================] - 0s 7ms/step - loss: 0.0631 - val_loss: 0.2602\n",
      "Epoch 450/500\n",
      "21/21 [==============================] - 0s 7ms/step - loss: 0.0625 - val_loss: 0.2526\n",
      "Epoch 451/500\n",
      "21/21 [==============================] - 0s 7ms/step - loss: 0.0595 - val_loss: 0.2515\n",
      "Epoch 452/500\n",
      "21/21 [==============================] - 0s 7ms/step - loss: 0.0597 - val_loss: 0.2526\n",
      "Epoch 453/500\n",
      "21/21 [==============================] - 0s 7ms/step - loss: 0.0596 - val_loss: 0.2500\n",
      "Epoch 454/500\n",
      "21/21 [==============================] - 0s 7ms/step - loss: 0.0578 - val_loss: 0.2521\n",
      "Epoch 455/500\n",
      "21/21 [==============================] - 0s 7ms/step - loss: 0.0576 - val_loss: 0.2507\n",
      "Epoch 456/500\n",
      "21/21 [==============================] - 0s 7ms/step - loss: 0.0577 - val_loss: 0.2523\n",
      "Epoch 457/500\n",
      "21/21 [==============================] - 0s 7ms/step - loss: 0.0575 - val_loss: 0.2513\n",
      "Epoch 458/500\n",
      "21/21 [==============================] - 0s 7ms/step - loss: 0.0555 - val_loss: 0.2505\n",
      "Epoch 459/500\n",
      "21/21 [==============================] - 0s 8ms/step - loss: 0.0546 - val_loss: 0.2506\n",
      "Epoch 460/500\n",
      "21/21 [==============================] - 0s 8ms/step - loss: 0.0548 - val_loss: 0.2552\n",
      "Epoch 461/500\n",
      "21/21 [==============================] - 0s 8ms/step - loss: 0.0543 - val_loss: 0.2519\n",
      "Epoch 462/500\n",
      "21/21 [==============================] - 0s 8ms/step - loss: 0.0547 - val_loss: 0.2554\n",
      "Epoch 463/500\n",
      "21/21 [==============================] - 0s 7ms/step - loss: 0.0525 - val_loss: 0.2518\n",
      "Epoch 464/500\n",
      "21/21 [==============================] - 0s 7ms/step - loss: 0.0519 - val_loss: 0.2519\n",
      "Epoch 465/500\n",
      "21/21 [==============================] - 0s 7ms/step - loss: 0.0508 - val_loss: 0.2503\n",
      "Epoch 466/500\n",
      "21/21 [==============================] - 0s 7ms/step - loss: 0.0499 - val_loss: 0.2499\n",
      "Epoch 467/500\n",
      "21/21 [==============================] - 0s 7ms/step - loss: 0.0499 - val_loss: 0.2522\n",
      "Epoch 468/500\n",
      "21/21 [==============================] - 0s 7ms/step - loss: 0.0503 - val_loss: 0.2511\n",
      "Epoch 469/500\n",
      "21/21 [==============================] - 0s 7ms/step - loss: 0.0493 - val_loss: 0.2472\n",
      "Epoch 470/500\n",
      "21/21 [==============================] - 0s 7ms/step - loss: 0.0469 - val_loss: 0.2535\n",
      "Epoch 471/500\n",
      "21/21 [==============================] - 0s 7ms/step - loss: 0.0471 - val_loss: 0.2505\n",
      "Epoch 472/500\n",
      "21/21 [==============================] - 0s 7ms/step - loss: 0.0461 - val_loss: 0.2509\n",
      "Epoch 473/500\n",
      "21/21 [==============================] - 0s 7ms/step - loss: 0.0467 - val_loss: 0.2529\n",
      "Epoch 474/500\n",
      "21/21 [==============================] - 0s 7ms/step - loss: 0.0464 - val_loss: 0.2492\n",
      "Epoch 475/500\n",
      "21/21 [==============================] - 0s 8ms/step - loss: 0.0447 - val_loss: 0.2532\n",
      "Epoch 476/500\n",
      "21/21 [==============================] - 0s 8ms/step - loss: 0.0444 - val_loss: 0.2499\n",
      "Epoch 477/500\n",
      "21/21 [==============================] - 0s 8ms/step - loss: 0.0450 - val_loss: 0.2548\n",
      "Epoch 478/500\n",
      "21/21 [==============================] - 0s 8ms/step - loss: 0.0432 - val_loss: 0.2481\n",
      "Epoch 479/500\n",
      "21/21 [==============================] - 0s 8ms/step - loss: 0.0425 - val_loss: 0.2530\n",
      "Epoch 480/500\n",
      "21/21 [==============================] - 0s 8ms/step - loss: 0.0419 - val_loss: 0.2527\n",
      "Epoch 481/500\n",
      "21/21 [==============================] - 0s 7ms/step - loss: 0.0415 - val_loss: 0.2540\n",
      "Epoch 482/500\n",
      "21/21 [==============================] - 0s 7ms/step - loss: 0.0422 - val_loss: 0.2501\n",
      "Epoch 483/500\n",
      "21/21 [==============================] - 0s 7ms/step - loss: 0.0400 - val_loss: 0.2508\n",
      "Epoch 484/500\n",
      "21/21 [==============================] - 0s 7ms/step - loss: 0.0400 - val_loss: 0.2451\n",
      "Epoch 485/500\n",
      "21/21 [==============================] - 0s 7ms/step - loss: 0.0392 - val_loss: 0.2502\n",
      "Epoch 486/500\n",
      "21/21 [==============================] - 0s 7ms/step - loss: 0.0398 - val_loss: 0.2479\n",
      "Epoch 487/500\n",
      "21/21 [==============================] - 0s 7ms/step - loss: 0.0385 - val_loss: 0.2510\n",
      "Epoch 488/500\n"
     ]
    },
    {
     "name": "stdout",
     "output_type": "stream",
     "text": [
      "21/21 [==============================] - 0s 7ms/step - loss: 0.0363 - val_loss: 0.2476\n",
      "Epoch 489/500\n",
      "21/21 [==============================] - 0s 7ms/step - loss: 0.0372 - val_loss: 0.2453\n",
      "Epoch 490/500\n",
      "21/21 [==============================] - 0s 7ms/step - loss: 0.0363 - val_loss: 0.2475\n",
      "Epoch 491/500\n",
      "21/21 [==============================] - 0s 7ms/step - loss: 0.0375 - val_loss: 0.2509\n",
      "Epoch 492/500\n",
      "21/21 [==============================] - 0s 8ms/step - loss: 0.0367 - val_loss: 0.2515\n",
      "Epoch 493/500\n",
      "21/21 [==============================] - 0s 8ms/step - loss: 0.0353 - val_loss: 0.2484\n",
      "Epoch 494/500\n",
      "21/21 [==============================] - 0s 8ms/step - loss: 0.0353 - val_loss: 0.2522\n",
      "Epoch 495/500\n",
      "21/21 [==============================] - 0s 8ms/step - loss: 0.0345 - val_loss: 0.2455\n",
      "Epoch 496/500\n",
      "21/21 [==============================] - 0s 8ms/step - loss: 0.0348 - val_loss: 0.2412\n",
      "Epoch 497/500\n",
      "21/21 [==============================] - 0s 8ms/step - loss: 0.0330 - val_loss: 0.2482\n",
      "Epoch 498/500\n",
      "21/21 [==============================] - 0s 7ms/step - loss: 0.0332 - val_loss: 0.2468\n",
      "Epoch 499/500\n",
      "21/21 [==============================] - 0s 7ms/step - loss: 0.0316 - val_loss: 0.2487\n",
      "Epoch 500/500\n",
      "21/21 [==============================] - 0s 7ms/step - loss: 0.0326 - val_loss: 0.2461\n"
     ]
    }
   ],
   "source": [
    "history = model_ann.fit(np.array(X_train), np.array(y_train), \n",
    "                        epochs=500, batch_size=512, validation_data=(np.array(X_test), np.array(y_test)))"
   ]
  },
  {
   "cell_type": "markdown",
   "metadata": {},
   "source": [
    "#### Evaluation"
   ]
  },
  {
   "cell_type": "code",
   "execution_count": 43,
   "metadata": {},
   "outputs": [
    {
     "data": {
      "image/png": "[encoded data removed]",
      "text/plain": [
       "<Figure size 432x288 with 1 Axes>"
      ]
     },
     "metadata": {
      "needs_background": "light"
     },
     "output_type": "display_data"
    }
   ],
   "source": [
    "plt.plot(history.history['loss'])\n",
    "plt.plot(history.history['val_loss'])\n",
    "plt.title('model loss')\n",
    "plt.ylabel('loss')\n",
    "plt.xlabel('epoch')\n",
    "plt.legend(['train', 'val'], loc='upper left')\n",
    "plt.show()"
   ]
  },
  {
   "cell_type": "code",
   "execution_count": 44,
   "metadata": {},
   "outputs": [],
   "source": [
    "y_pred_ann = model_ann.predict(np.array(X_test)).flatten()"
   ]
  },
  {
   "cell_type": "code",
   "execution_count": 45,
   "metadata": {},
   "outputs": [
    {
     "name": "stdout",
     "output_type": "stream",
     "text": [
      "MAE score of Neural Network:  0.3867890639410749\n",
      "----------------------------------------------------------------------------------------------------\n",
      "MSE score of Neural Network:  0.24613400714213307\n"
     ]
    }
   ],
   "source": [
    "print(\"MAE score of Neural Network: \", mean_absolute_error(y_test, y_pred_ann))\n",
    "print('-' * 100)\n",
    "print(\"MSE score of Neural Network: \", mean_squared_error(y_test, y_pred_ann))"
   ]
  },
  {
   "cell_type": "markdown",
   "metadata": {},
   "source": [
    "## Comparison"
   ]
  },
  {
   "cell_type": "code",
   "execution_count": 46,
   "metadata": {},
   "outputs": [
    {
     "data": {
      "image/png": "[encoded data removed]",
      "text/plain": [
       "<Figure size 432x288 with 1 Axes>"
      ]
     },
     "metadata": {
      "needs_background": "light"
     },
     "output_type": "display_data"
    }
   ],
   "source": [
    "models = ['Random forest', 'SVM', 'ANN']\n",
    "sc = [mean_squared_error(y_test, rf_pred), mean_squared_error(y_test, svm_pred), \n",
    "      mean_squared_error(y_test, y_pred_ann)]\n",
    "plt.bar(models, sc, align='center', color='cyan')\n",
    "plt.xlabel('Models')\n",
    "plt.ylabel('Mean Squared Error Score')\n",
    "plt.title('Comparison of Mean Squared Error Score')\n",
    "plt.show()"
   ]
  },
  {
   "cell_type": "code",
   "execution_count": 47,
   "metadata": {},
   "outputs": [
    {
     "data": {
      "image/png": "[encoded data removed]",
      "text/plain": [
       "<Figure size 432x288 with 1 Axes>"
      ]
     },
     "metadata": {
      "needs_background": "light"
     },
     "output_type": "display_data"
    }
   ],
   "source": [
    "models = ['Random forest', 'SVM', 'ANN']\n",
    "sc = [mean_absolute_error(y_test, rf_pred), mean_absolute_error(y_test, svm_pred), \n",
    "      mean_absolute_error(y_test, y_pred_ann)]\n",
    "plt.bar(models, sc, align='center', color='orange')\n",
    "plt.xlabel('Models')\n",
    "plt.ylabel('Mean Absolute Error Score')\n",
    "plt.title('Comparison of Mean Absolute Error Score')\n",
    "plt.show()"
   ]
  },
  {
   "cell_type": "markdown",
   "metadata": {},
   "source": [
    "**=> Comparing the results, the Neural Network model has a higher MAE score of 0.380 compared to the SVM model's score of 0.329. Additionally, the Neural Network model has a higher MSE score of 0.239 compared to the SVM model's score of 0.184. This indicates that the SVM model performs better in terms of accuracy and precision compared to the Neural Network model in predicting the target variable.**"
   ]
  },
  {
   "cell_type": "markdown",
   "metadata": {},
   "source": [
    "# Testing"
   ]
  },
  {
   "cell_type": "markdown",
   "metadata": {},
   "source": [
    "#### Define input testing"
   ]
  },
  {
   "cell_type": "code",
   "execution_count": 88,
   "metadata": {},
   "outputs": [],
   "source": [
    "title = 'Fast X'\n",
    "overview = \"Over many missions and against impossible odds, Dom Toretto and his family have outsmarted, out-nerved and outdriven every foe in their path. Now, they confront the most lethal opponent they've ever faced: A terrifying threat emerging from the shadows of the past who's fueled by blood revenge, and who is determined to shatter this family and destroy everything—and everyone—that Dom loves, forever.\"\n",
    "tagline = 'The end of the road begins'\n",
    "genres = 'Action Crime Thriller'\n",
    "production_companies = 'Universal Pictures Original Film One Race Perfect Storm Entertainment'\n",
    "directors = 'Louis Leterrier'\n",
    "actors = 'Vin Diesel Michelle Rodriguez Tyrese Gibson Ludacris John Cena Nathalie Emmanuel Jordana Brewster Sung Kang Jason Momoa Scott Eastwood'\n"
   ]
  },
  {
   "cell_type": "markdown",
   "metadata": {},
   "source": [
    "#### Processing"
   ]
  },
  {
   "cell_type": "code",
   "execution_count": 90,
   "metadata": {},
   "outputs": [],
   "source": [
    "data_test = pd.DataFrame({\n",
    "    'title': [title],\n",
    "    'overview': [overview],\n",
    "    'tagline': [tagline],\n",
    "    'genres': [genres],\n",
    "    'production_companies': [production_companies],\n",
    "    'directors': [directors],\n",
    "    'actors': [actors],\n",
    "})"
   ]
  },
  {
   "cell_type": "code",
   "execution_count": 92,
   "metadata": {},
   "outputs": [],
   "source": [
    "data_test['overview'] = clean_text_data(data_test, 'overview')\n",
    "data_test['genres'] = clean_text_data(data_test, 'genres')\n",
    "data_test['production_companies'] = clean_text_data(data_test, 'production_companies')\n",
    "data_test['directors'] = clean_text_data(data_test, 'directors')\n",
    "data_test['actors'] = clean_text_data(data_test, 'actors')"
   ]
  },
  {
   "cell_type": "code",
   "execution_count": 93,
   "metadata": {},
   "outputs": [],
   "source": [
    "data_test['soup'] = data_test.apply(create_soup, axis=1)"
   ]
  },
  {
   "cell_type": "code",
   "execution_count": 94,
   "metadata": {},
   "outputs": [
    {
     "data": {
      "application/vnd.jupyter.widget-view+json": {
       "model_id": "5683c5617aa846eea06383ecda6d3342",
       "version_major": 2,
       "version_minor": 0
      },
      "text/plain": [
       "Batches:   0%|          | 0/1 [00:00<?, ?it/s]"
      ]
     },
     "metadata": {},
     "output_type": "display_data"
    }
   ],
   "source": [
    "embeddings = embedding_model.encode(data_test['soup'], batch_size=1, show_progress_bar=True)"
   ]
  },
  {
   "cell_type": "markdown",
   "metadata": {},
   "source": [
    "#### Result"
   ]
  },
  {
   "cell_type": "code",
   "execution_count": 95,
   "metadata": {},
   "outputs": [],
   "source": [
    "test_pred = svm.predict(embeddings)"
   ]
  },
  {
   "cell_type": "code",
   "execution_count": 97,
   "metadata": {},
   "outputs": [
    {
     "name": "stdout",
     "output_type": "stream",
     "text": [
      "Rating Score: 6.626475234867884\n"
     ]
    }
   ],
   "source": [
    "print(\"Rating Score:\", test_pred[0])"
   ]
  },
  {
   "cell_type": "code",
   "execution_count": null,
   "metadata": {},
   "outputs": [],
   "source": []
  }
 ],
 "metadata": {
  "kernelspec": {
   "display_name": "Python 3 (ipykernel)",
   "language": "python",
   "name": "python3"
  },
  "language_info": {
   "codemirror_mode": {
    "name": "ipython",
    "version": 3
   },
   "file_extension": ".py",
   "mimetype": "text/x-python",
   "name": "python",
   "nbconvert_exporter": "python",
   "pygments_lexer": "ipython3",
   "version": "3.7.8"
  }
 },
 "nbformat": 4,
 "nbformat_minor": 2
}
